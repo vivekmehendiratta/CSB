{
 "cells": [
  {
   "cell_type": "code",
   "execution_count": 1,
   "metadata": {},
   "outputs": [],
   "source": [
    "# import libraries\n",
    "import pandas as pd\n",
    "import numpy as np\n",
    "import matplotlib.pyplot as plt\n",
    "%matplotlib inline\n",
    "\n",
    "import seaborn as sns\n",
    "\n",
    "from sklearn.svm import LinearSVC\n",
    "from sklearn.ensemble import RandomForestClassifier\n",
    "from sklearn.tree import DecisionTreeClassifier\n",
    "from sklearn.linear_model import LogisticRegression\n",
    "\n",
    "from sklearn.model_selection import train_test_split\n",
    "from sklearn.metrics import precision_recall_curve, plot_precision_recall_curve\n",
    "from sklearn.metrics import average_precision_score\n",
    "\n",
    "# Weight of Evidence - Feature Selection\n",
    "from xverse.transformer import WOE"
   ]
  },
  {
   "cell_type": "markdown",
   "metadata": {},
   "source": [
    "# The notebook is divided into following parts:\n",
    "\n",
    "    1. Data import\n",
    "    2. EDA\n",
    "    3. Modeling on raw data\n",
    "        3.1 Features : all features\n",
    "        3.2 Feature selection and then modeling\n",
    "        3.3 Fltering using account_id\n",
    "        3.4 Test Train Sampling based on account_id\n",
    "        3.4 Incorporating week_date into model\n",
    "    4. Takeaways\n",
    "    5. Feature Engineering\n",
    "    6. Clustering and Classication\n",
    "        6.1 Clustering based on features (relations between model)\n",
    "        6.2 Classification based on features+clusters are independent variable and Label as dependent variable   "
   ]
  },
  {
   "cell_type": "markdown",
   "metadata": {},
   "source": [
    "# 1. Data Import"
   ]
  },
  {
   "cell_type": "code",
   "execution_count": 2,
   "metadata": {},
   "outputs": [],
   "source": [
    "# Read Training and test sets\n",
    "train_data = pd.read_csv('Train_Set.csv')\n",
    "test_data = pd.read_csv('Test_Set.csv')"
   ]
  },
  {
   "cell_type": "code",
   "execution_count": 3,
   "metadata": {},
   "outputs": [
    {
     "data": {
      "text/plain": [
       "713"
      ]
     },
     "execution_count": 3,
     "metadata": {},
     "output_type": "execute_result"
    }
   ],
   "source": [
    "len(test_data.account_id.unique())"
   ]
  },
  {
   "cell_type": "code",
   "execution_count": 4,
   "metadata": {},
   "outputs": [
    {
     "data": {
      "text/plain": [
       "603"
      ]
     },
     "execution_count": 4,
     "metadata": {},
     "output_type": "execute_result"
    }
   ],
   "source": [
    "len(set(test_data['account_id']) - set(train_data['account_id']))"
   ]
  },
  {
   "cell_type": "code",
   "execution_count": 5,
   "metadata": {},
   "outputs": [],
   "source": [
    "train_data['week_start_date'] = pd.to_datetime(train_data['week_start_date'], format='%m/%d/%Y', errors='ignore')\n",
    "test_data['week_start_date'] = pd.to_datetime(test_data['week_start_date'], format='%m/%d/%Y', errors='ignore')"
   ]
  },
  {
   "cell_type": "code",
   "execution_count": 6,
   "metadata": {},
   "outputs": [
    {
     "data": {
      "text/plain": [
       "18945"
      ]
     },
     "execution_count": 6,
     "metadata": {},
     "output_type": "execute_result"
    }
   ],
   "source": [
    "sum(train_data.groupby(['account_id', 'week_start_date'])['feature1'].count() > 1)"
   ]
  },
  {
   "cell_type": "markdown",
   "metadata": {},
   "source": [
    "- Approx. 19k duplicate values"
   ]
  },
  {
   "cell_type": "code",
   "execution_count": 7,
   "metadata": {},
   "outputs": [],
   "source": [
    "# Removing duplicate rows\n",
    "train_data.drop_duplicates(keep = 'first', inplace = True)"
   ]
  },
  {
   "cell_type": "code",
   "execution_count": 99,
   "metadata": {},
   "outputs": [
    {
     "data": {
      "text/html": [
       "<div>\n",
       "<style scoped>\n",
       "    .dataframe tbody tr th:only-of-type {\n",
       "        vertical-align: middle;\n",
       "    }\n",
       "\n",
       "    .dataframe tbody tr th {\n",
       "        vertical-align: top;\n",
       "    }\n",
       "\n",
       "    .dataframe thead th {\n",
       "        text-align: right;\n",
       "    }\n",
       "</style>\n",
       "<table border=\"1\" class=\"dataframe\">\n",
       "  <thead>\n",
       "    <tr style=\"text-align: right;\">\n",
       "      <th></th>\n",
       "      <th>account_id</th>\n",
       "      <th>week_start_date</th>\n",
       "      <th>feature1</th>\n",
       "      <th>feature2</th>\n",
       "      <th>feature3</th>\n",
       "      <th>feature4</th>\n",
       "      <th>feature5</th>\n",
       "      <th>feature6</th>\n",
       "      <th>feature7</th>\n",
       "      <th>feature8</th>\n",
       "      <th>...</th>\n",
       "      <th>feature54</th>\n",
       "      <th>feature55</th>\n",
       "      <th>feature56</th>\n",
       "      <th>feature57</th>\n",
       "      <th>feature58</th>\n",
       "      <th>feature59</th>\n",
       "      <th>feature60</th>\n",
       "      <th>feature61</th>\n",
       "      <th>feature62</th>\n",
       "      <th>Label</th>\n",
       "    </tr>\n",
       "  </thead>\n",
       "  <tbody>\n",
       "    <tr>\n",
       "      <th>0</th>\n",
       "      <td>105049</td>\n",
       "      <td>2018-09-03</td>\n",
       "      <td>0.0</td>\n",
       "      <td>0.0</td>\n",
       "      <td>0.0</td>\n",
       "      <td>0.0</td>\n",
       "      <td>0.0</td>\n",
       "      <td>0.0</td>\n",
       "      <td>0.0</td>\n",
       "      <td>0.0</td>\n",
       "      <td>...</td>\n",
       "      <td>0.0</td>\n",
       "      <td>0.0</td>\n",
       "      <td>0.0</td>\n",
       "      <td>0.0</td>\n",
       "      <td>0.0</td>\n",
       "      <td>0.0</td>\n",
       "      <td>0.0</td>\n",
       "      <td>0.0</td>\n",
       "      <td>0.0</td>\n",
       "      <td>0</td>\n",
       "    </tr>\n",
       "    <tr>\n",
       "      <th>1</th>\n",
       "      <td>105049</td>\n",
       "      <td>2018-09-10</td>\n",
       "      <td>0.0</td>\n",
       "      <td>0.0</td>\n",
       "      <td>0.0</td>\n",
       "      <td>0.0</td>\n",
       "      <td>0.0</td>\n",
       "      <td>0.0</td>\n",
       "      <td>0.0</td>\n",
       "      <td>0.0</td>\n",
       "      <td>...</td>\n",
       "      <td>0.0</td>\n",
       "      <td>0.5</td>\n",
       "      <td>0.0</td>\n",
       "      <td>0.0</td>\n",
       "      <td>0.0</td>\n",
       "      <td>0.0</td>\n",
       "      <td>0.0</td>\n",
       "      <td>0.0</td>\n",
       "      <td>0.0</td>\n",
       "      <td>0</td>\n",
       "    </tr>\n",
       "    <tr>\n",
       "      <th>2</th>\n",
       "      <td>105049</td>\n",
       "      <td>2018-09-17</td>\n",
       "      <td>0.0</td>\n",
       "      <td>0.0</td>\n",
       "      <td>0.0</td>\n",
       "      <td>0.0</td>\n",
       "      <td>0.0</td>\n",
       "      <td>0.0</td>\n",
       "      <td>0.0</td>\n",
       "      <td>0.0</td>\n",
       "      <td>...</td>\n",
       "      <td>0.0</td>\n",
       "      <td>0.0</td>\n",
       "      <td>0.0</td>\n",
       "      <td>0.0</td>\n",
       "      <td>0.0</td>\n",
       "      <td>0.0</td>\n",
       "      <td>0.0</td>\n",
       "      <td>0.0</td>\n",
       "      <td>0.0</td>\n",
       "      <td>0</td>\n",
       "    </tr>\n",
       "    <tr>\n",
       "      <th>3</th>\n",
       "      <td>105049</td>\n",
       "      <td>2018-09-24</td>\n",
       "      <td>0.0</td>\n",
       "      <td>0.0</td>\n",
       "      <td>0.0</td>\n",
       "      <td>0.0</td>\n",
       "      <td>0.0</td>\n",
       "      <td>0.0</td>\n",
       "      <td>0.0</td>\n",
       "      <td>0.0</td>\n",
       "      <td>...</td>\n",
       "      <td>0.0</td>\n",
       "      <td>0.0</td>\n",
       "      <td>0.0</td>\n",
       "      <td>0.0</td>\n",
       "      <td>0.0</td>\n",
       "      <td>0.0</td>\n",
       "      <td>0.0</td>\n",
       "      <td>0.0</td>\n",
       "      <td>0.0</td>\n",
       "      <td>0</td>\n",
       "    </tr>\n",
       "    <tr>\n",
       "      <th>4</th>\n",
       "      <td>105049</td>\n",
       "      <td>2018-10-01</td>\n",
       "      <td>0.0</td>\n",
       "      <td>0.0</td>\n",
       "      <td>0.0</td>\n",
       "      <td>0.0</td>\n",
       "      <td>0.0</td>\n",
       "      <td>0.0</td>\n",
       "      <td>0.0</td>\n",
       "      <td>0.0</td>\n",
       "      <td>...</td>\n",
       "      <td>0.0</td>\n",
       "      <td>0.0</td>\n",
       "      <td>0.0</td>\n",
       "      <td>0.0</td>\n",
       "      <td>0.0</td>\n",
       "      <td>0.0</td>\n",
       "      <td>0.0</td>\n",
       "      <td>0.0</td>\n",
       "      <td>0.0</td>\n",
       "      <td>0</td>\n",
       "    </tr>\n",
       "  </tbody>\n",
       "</table>\n",
       "<p>5 rows × 65 columns</p>\n",
       "</div>"
      ],
      "text/plain": [
       "   account_id week_start_date  feature1  feature2  feature3  feature4  \\\n",
       "0      105049      2018-09-03       0.0       0.0       0.0       0.0   \n",
       "1      105049      2018-09-10       0.0       0.0       0.0       0.0   \n",
       "2      105049      2018-09-17       0.0       0.0       0.0       0.0   \n",
       "3      105049      2018-09-24       0.0       0.0       0.0       0.0   \n",
       "4      105049      2018-10-01       0.0       0.0       0.0       0.0   \n",
       "\n",
       "   feature5  feature6  feature7  feature8  ...  feature54  feature55  \\\n",
       "0       0.0       0.0       0.0       0.0  ...        0.0        0.0   \n",
       "1       0.0       0.0       0.0       0.0  ...        0.0        0.5   \n",
       "2       0.0       0.0       0.0       0.0  ...        0.0        0.0   \n",
       "3       0.0       0.0       0.0       0.0  ...        0.0        0.0   \n",
       "4       0.0       0.0       0.0       0.0  ...        0.0        0.0   \n",
       "\n",
       "   feature56  feature57  feature58  feature59  feature60  feature61  \\\n",
       "0        0.0        0.0        0.0        0.0        0.0        0.0   \n",
       "1        0.0        0.0        0.0        0.0        0.0        0.0   \n",
       "2        0.0        0.0        0.0        0.0        0.0        0.0   \n",
       "3        0.0        0.0        0.0        0.0        0.0        0.0   \n",
       "4        0.0        0.0        0.0        0.0        0.0        0.0   \n",
       "\n",
       "   feature62  Label  \n",
       "0        0.0      0  \n",
       "1        0.0      0  \n",
       "2        0.0      0  \n",
       "3        0.0      0  \n",
       "4        0.0      0  \n",
       "\n",
       "[5 rows x 65 columns]"
      ]
     },
     "execution_count": 99,
     "metadata": {},
     "output_type": "execute_result"
    }
   ],
   "source": [
    "test_data.head()"
   ]
  },
  {
   "cell_type": "code",
   "execution_count": 100,
   "metadata": {},
   "outputs": [
    {
     "data": {
      "text/plain": [
       "(29620, 65)"
      ]
     },
     "execution_count": 100,
     "metadata": {},
     "output_type": "execute_result"
    }
   ],
   "source": [
    "test_data.shape"
   ]
  },
  {
   "cell_type": "code",
   "execution_count": 102,
   "metadata": {},
   "outputs": [],
   "source": [
    "test_data.drop_duplicates(keep = 'first', inplace = True)"
   ]
  },
  {
   "cell_type": "code",
   "execution_count": 103,
   "metadata": {},
   "outputs": [
    {
     "data": {
      "text/plain": [
       "(27693, 65)"
      ]
     },
     "execution_count": 103,
     "metadata": {},
     "output_type": "execute_result"
    }
   ],
   "source": [
    "test_data.shape"
   ]
  },
  {
   "cell_type": "code",
   "execution_count": null,
   "metadata": {},
   "outputs": [],
   "source": []
  },
  {
   "cell_type": "code",
   "execution_count": 8,
   "metadata": {},
   "outputs": [
    {
     "data": {
      "text/plain": [
       "0    0.993035\n",
       "1    0.006965\n",
       "Name: Label, dtype: float64"
      ]
     },
     "execution_count": 8,
     "metadata": {},
     "output_type": "execute_result"
    }
   ],
   "source": [
    "train_data['Label'].value_counts(normalize = True)"
   ]
  },
  {
   "cell_type": "markdown",
   "metadata": {},
   "source": [
    "- 603 new accounts in test data"
   ]
  },
  {
   "cell_type": "markdown",
   "metadata": {},
   "source": [
    "# 2. EDA"
   ]
  },
  {
   "cell_type": "code",
   "execution_count": 9,
   "metadata": {},
   "outputs": [
    {
     "data": {
      "text/plain": [
       "0    0.993035\n",
       "1    0.006965\n",
       "Name: Label, dtype: float64"
      ]
     },
     "execution_count": 9,
     "metadata": {},
     "output_type": "execute_result"
    }
   ],
   "source": [
    "train_data['Label'].value_counts(normalize=True)"
   ]
  },
  {
   "cell_type": "code",
   "execution_count": 10,
   "metadata": {},
   "outputs": [
    {
     "data": {
      "text/plain": [
       "0    0.990648\n",
       "1    0.009352\n",
       "Name: Label, dtype: float64"
      ]
     },
     "execution_count": 10,
     "metadata": {},
     "output_type": "execute_result"
    }
   ],
   "source": [
    "test_data['Label'].value_counts(normalize=True)"
   ]
  },
  {
   "cell_type": "code",
   "execution_count": 11,
   "metadata": {},
   "outputs": [
    {
     "data": {
      "text/html": [
       "<div>\n",
       "<style scoped>\n",
       "    .dataframe tbody tr th:only-of-type {\n",
       "        vertical-align: middle;\n",
       "    }\n",
       "\n",
       "    .dataframe tbody tr th {\n",
       "        vertical-align: top;\n",
       "    }\n",
       "\n",
       "    .dataframe thead th {\n",
       "        text-align: right;\n",
       "    }\n",
       "</style>\n",
       "<table border=\"1\" class=\"dataframe\">\n",
       "  <thead>\n",
       "    <tr style=\"text-align: right;\">\n",
       "      <th></th>\n",
       "      <th>account_id</th>\n",
       "      <th>week_start_date</th>\n",
       "      <th>feature1</th>\n",
       "      <th>feature2</th>\n",
       "      <th>feature3</th>\n",
       "      <th>feature4</th>\n",
       "      <th>feature5</th>\n",
       "      <th>feature6</th>\n",
       "      <th>feature7</th>\n",
       "      <th>feature8</th>\n",
       "      <th>...</th>\n",
       "      <th>feature54</th>\n",
       "      <th>feature55</th>\n",
       "      <th>feature56</th>\n",
       "      <th>feature57</th>\n",
       "      <th>feature58</th>\n",
       "      <th>feature59</th>\n",
       "      <th>feature60</th>\n",
       "      <th>feature61</th>\n",
       "      <th>feature62</th>\n",
       "      <th>Label</th>\n",
       "    </tr>\n",
       "  </thead>\n",
       "  <tbody>\n",
       "    <tr>\n",
       "      <th>0</th>\n",
       "      <td>100559.0</td>\n",
       "      <td>2018-09-03</td>\n",
       "      <td>0.0</td>\n",
       "      <td>0.0</td>\n",
       "      <td>0.000000</td>\n",
       "      <td>0.0</td>\n",
       "      <td>0.0</td>\n",
       "      <td>0.0</td>\n",
       "      <td>0.0</td>\n",
       "      <td>0.0</td>\n",
       "      <td>...</td>\n",
       "      <td>0.0</td>\n",
       "      <td>0.000000</td>\n",
       "      <td>0.0</td>\n",
       "      <td>0.0</td>\n",
       "      <td>0.0</td>\n",
       "      <td>0.0</td>\n",
       "      <td>0.0</td>\n",
       "      <td>0.0</td>\n",
       "      <td>0.0</td>\n",
       "      <td>0</td>\n",
       "    </tr>\n",
       "    <tr>\n",
       "      <th>1</th>\n",
       "      <td>101026.0</td>\n",
       "      <td>2018-09-03</td>\n",
       "      <td>0.0</td>\n",
       "      <td>0.0</td>\n",
       "      <td>0.000000</td>\n",
       "      <td>0.0</td>\n",
       "      <td>0.0</td>\n",
       "      <td>0.0</td>\n",
       "      <td>0.0</td>\n",
       "      <td>0.0</td>\n",
       "      <td>...</td>\n",
       "      <td>0.0</td>\n",
       "      <td>0.000000</td>\n",
       "      <td>0.0</td>\n",
       "      <td>0.0</td>\n",
       "      <td>0.0</td>\n",
       "      <td>0.0</td>\n",
       "      <td>0.0</td>\n",
       "      <td>0.0</td>\n",
       "      <td>0.0</td>\n",
       "      <td>0</td>\n",
       "    </tr>\n",
       "    <tr>\n",
       "      <th>2</th>\n",
       "      <td>101026.0</td>\n",
       "      <td>2018-09-10</td>\n",
       "      <td>0.0</td>\n",
       "      <td>0.0</td>\n",
       "      <td>86.666667</td>\n",
       "      <td>0.0</td>\n",
       "      <td>0.0</td>\n",
       "      <td>0.0</td>\n",
       "      <td>0.0</td>\n",
       "      <td>0.0</td>\n",
       "      <td>...</td>\n",
       "      <td>0.0</td>\n",
       "      <td>0.333333</td>\n",
       "      <td>0.0</td>\n",
       "      <td>0.0</td>\n",
       "      <td>0.0</td>\n",
       "      <td>0.0</td>\n",
       "      <td>0.0</td>\n",
       "      <td>0.0</td>\n",
       "      <td>0.0</td>\n",
       "      <td>0</td>\n",
       "    </tr>\n",
       "    <tr>\n",
       "      <th>3</th>\n",
       "      <td>101026.0</td>\n",
       "      <td>2018-09-17</td>\n",
       "      <td>0.0</td>\n",
       "      <td>0.0</td>\n",
       "      <td>-0.076046</td>\n",
       "      <td>0.0</td>\n",
       "      <td>0.0</td>\n",
       "      <td>0.0</td>\n",
       "      <td>0.0</td>\n",
       "      <td>0.0</td>\n",
       "      <td>...</td>\n",
       "      <td>0.0</td>\n",
       "      <td>0.000000</td>\n",
       "      <td>0.0</td>\n",
       "      <td>0.0</td>\n",
       "      <td>0.0</td>\n",
       "      <td>0.0</td>\n",
       "      <td>0.0</td>\n",
       "      <td>0.0</td>\n",
       "      <td>0.0</td>\n",
       "      <td>0</td>\n",
       "    </tr>\n",
       "    <tr>\n",
       "      <th>4</th>\n",
       "      <td>101026.0</td>\n",
       "      <td>2018-09-24</td>\n",
       "      <td>0.0</td>\n",
       "      <td>0.0</td>\n",
       "      <td>-0.987654</td>\n",
       "      <td>0.0</td>\n",
       "      <td>0.0</td>\n",
       "      <td>0.0</td>\n",
       "      <td>0.0</td>\n",
       "      <td>0.0</td>\n",
       "      <td>...</td>\n",
       "      <td>0.0</td>\n",
       "      <td>0.000000</td>\n",
       "      <td>0.0</td>\n",
       "      <td>0.0</td>\n",
       "      <td>0.0</td>\n",
       "      <td>0.0</td>\n",
       "      <td>0.0</td>\n",
       "      <td>0.0</td>\n",
       "      <td>0.0</td>\n",
       "      <td>0</td>\n",
       "    </tr>\n",
       "  </tbody>\n",
       "</table>\n",
       "<p>5 rows × 65 columns</p>\n",
       "</div>"
      ],
      "text/plain": [
       "   account_id week_start_date  feature1  feature2   feature3  feature4  \\\n",
       "0    100559.0      2018-09-03       0.0       0.0   0.000000       0.0   \n",
       "1    101026.0      2018-09-03       0.0       0.0   0.000000       0.0   \n",
       "2    101026.0      2018-09-10       0.0       0.0  86.666667       0.0   \n",
       "3    101026.0      2018-09-17       0.0       0.0  -0.076046       0.0   \n",
       "4    101026.0      2018-09-24       0.0       0.0  -0.987654       0.0   \n",
       "\n",
       "   feature5  feature6  feature7  feature8  ...  feature54  feature55  \\\n",
       "0       0.0       0.0       0.0       0.0  ...        0.0   0.000000   \n",
       "1       0.0       0.0       0.0       0.0  ...        0.0   0.000000   \n",
       "2       0.0       0.0       0.0       0.0  ...        0.0   0.333333   \n",
       "3       0.0       0.0       0.0       0.0  ...        0.0   0.000000   \n",
       "4       0.0       0.0       0.0       0.0  ...        0.0   0.000000   \n",
       "\n",
       "   feature56  feature57  feature58  feature59  feature60  feature61  \\\n",
       "0        0.0        0.0        0.0        0.0        0.0        0.0   \n",
       "1        0.0        0.0        0.0        0.0        0.0        0.0   \n",
       "2        0.0        0.0        0.0        0.0        0.0        0.0   \n",
       "3        0.0        0.0        0.0        0.0        0.0        0.0   \n",
       "4        0.0        0.0        0.0        0.0        0.0        0.0   \n",
       "\n",
       "   feature62  Label  \n",
       "0        0.0      0  \n",
       "1        0.0      0  \n",
       "2        0.0      0  \n",
       "3        0.0      0  \n",
       "4        0.0      0  \n",
       "\n",
       "[5 rows x 65 columns]"
      ]
     },
     "execution_count": 11,
     "metadata": {},
     "output_type": "execute_result"
    }
   ],
   "source": [
    "train_data.head()"
   ]
  },
  {
   "cell_type": "code",
   "execution_count": 12,
   "metadata": {},
   "outputs": [
    {
     "data": {
      "text/plain": [
       "(93175, 65)"
      ]
     },
     "execution_count": 12,
     "metadata": {},
     "output_type": "execute_result"
    }
   ],
   "source": [
    "n_row, n_col = train_data.shape\n",
    "n_row, n_col"
   ]
  },
  {
   "cell_type": "markdown",
   "metadata": {},
   "source": [
    "- n_rows = 93175\n",
    "- n_cols = 65"
   ]
  },
  {
   "cell_type": "code",
   "execution_count": 13,
   "metadata": {},
   "outputs": [
    {
     "data": {
      "text/html": [
       "<div>\n",
       "<style scoped>\n",
       "    .dataframe tbody tr th:only-of-type {\n",
       "        vertical-align: middle;\n",
       "    }\n",
       "\n",
       "    .dataframe tbody tr th {\n",
       "        vertical-align: top;\n",
       "    }\n",
       "\n",
       "    .dataframe thead th {\n",
       "        text-align: right;\n",
       "    }\n",
       "</style>\n",
       "<table border=\"1\" class=\"dataframe\">\n",
       "  <thead>\n",
       "    <tr style=\"text-align: right;\">\n",
       "      <th></th>\n",
       "      <th>account_id</th>\n",
       "      <th>feature1</th>\n",
       "      <th>feature2</th>\n",
       "      <th>feature3</th>\n",
       "      <th>feature4</th>\n",
       "      <th>feature5</th>\n",
       "      <th>feature6</th>\n",
       "      <th>feature7</th>\n",
       "      <th>feature8</th>\n",
       "      <th>feature9</th>\n",
       "      <th>...</th>\n",
       "      <th>feature54</th>\n",
       "      <th>feature55</th>\n",
       "      <th>feature56</th>\n",
       "      <th>feature57</th>\n",
       "      <th>feature58</th>\n",
       "      <th>feature59</th>\n",
       "      <th>feature60</th>\n",
       "      <th>feature61</th>\n",
       "      <th>feature62</th>\n",
       "      <th>Label</th>\n",
       "    </tr>\n",
       "  </thead>\n",
       "  <tbody>\n",
       "    <tr>\n",
       "      <th>count</th>\n",
       "      <td>93175.000000</td>\n",
       "      <td>93175.000000</td>\n",
       "      <td>93175.000000</td>\n",
       "      <td>93175.000000</td>\n",
       "      <td>93175.000000</td>\n",
       "      <td>93175.000000</td>\n",
       "      <td>93175.000000</td>\n",
       "      <td>93175.000000</td>\n",
       "      <td>93175.000000</td>\n",
       "      <td>93175.000000</td>\n",
       "      <td>...</td>\n",
       "      <td>93175.000000</td>\n",
       "      <td>93175.000000</td>\n",
       "      <td>93175.000000</td>\n",
       "      <td>93175.000000</td>\n",
       "      <td>93175.000000</td>\n",
       "      <td>93175.000000</td>\n",
       "      <td>93175.000000</td>\n",
       "      <td>93175.000000</td>\n",
       "      <td>93175.000000</td>\n",
       "      <td>93175.000000</td>\n",
       "    </tr>\n",
       "    <tr>\n",
       "      <th>mean</th>\n",
       "      <td>133995.894285</td>\n",
       "      <td>0.004556</td>\n",
       "      <td>0.000312</td>\n",
       "      <td>1.359866</td>\n",
       "      <td>0.000058</td>\n",
       "      <td>0.000051</td>\n",
       "      <td>0.001871</td>\n",
       "      <td>0.014587</td>\n",
       "      <td>0.000278</td>\n",
       "      <td>0.026780</td>\n",
       "      <td>...</td>\n",
       "      <td>0.000730</td>\n",
       "      <td>0.050951</td>\n",
       "      <td>0.018393</td>\n",
       "      <td>0.000104</td>\n",
       "      <td>0.028186</td>\n",
       "      <td>0.003016</td>\n",
       "      <td>0.002903</td>\n",
       "      <td>0.001772</td>\n",
       "      <td>0.046110</td>\n",
       "      <td>0.006965</td>\n",
       "    </tr>\n",
       "    <tr>\n",
       "      <th>std</th>\n",
       "      <td>42988.942443</td>\n",
       "      <td>0.122827</td>\n",
       "      <td>0.047580</td>\n",
       "      <td>15.638121</td>\n",
       "      <td>0.011410</td>\n",
       "      <td>0.010946</td>\n",
       "      <td>0.107718</td>\n",
       "      <td>0.537802</td>\n",
       "      <td>0.026331</td>\n",
       "      <td>1.931629</td>\n",
       "      <td>...</td>\n",
       "      <td>0.117225</td>\n",
       "      <td>0.588272</td>\n",
       "      <td>0.856218</td>\n",
       "      <td>0.016880</td>\n",
       "      <td>0.827953</td>\n",
       "      <td>0.147153</td>\n",
       "      <td>0.130436</td>\n",
       "      <td>0.119347</td>\n",
       "      <td>1.902486</td>\n",
       "      <td>0.083168</td>\n",
       "    </tr>\n",
       "    <tr>\n",
       "      <th>min</th>\n",
       "      <td>100000.000000</td>\n",
       "      <td>-0.894737</td>\n",
       "      <td>-0.705882</td>\n",
       "      <td>-0.999442</td>\n",
       "      <td>-0.500000</td>\n",
       "      <td>-0.500000</td>\n",
       "      <td>-0.916667</td>\n",
       "      <td>-0.992701</td>\n",
       "      <td>-0.700000</td>\n",
       "      <td>-0.998079</td>\n",
       "      <td>...</td>\n",
       "      <td>-0.782609</td>\n",
       "      <td>-0.975000</td>\n",
       "      <td>-0.993750</td>\n",
       "      <td>-0.750000</td>\n",
       "      <td>-0.989455</td>\n",
       "      <td>-0.926471</td>\n",
       "      <td>-0.989691</td>\n",
       "      <td>-0.907514</td>\n",
       "      <td>-0.996314</td>\n",
       "      <td>0.000000</td>\n",
       "    </tr>\n",
       "    <tr>\n",
       "      <th>25%</th>\n",
       "      <td>101604.000000</td>\n",
       "      <td>0.000000</td>\n",
       "      <td>0.000000</td>\n",
       "      <td>0.000000</td>\n",
       "      <td>0.000000</td>\n",
       "      <td>0.000000</td>\n",
       "      <td>0.000000</td>\n",
       "      <td>0.000000</td>\n",
       "      <td>0.000000</td>\n",
       "      <td>0.000000</td>\n",
       "      <td>...</td>\n",
       "      <td>0.000000</td>\n",
       "      <td>0.000000</td>\n",
       "      <td>0.000000</td>\n",
       "      <td>0.000000</td>\n",
       "      <td>0.000000</td>\n",
       "      <td>0.000000</td>\n",
       "      <td>0.000000</td>\n",
       "      <td>0.000000</td>\n",
       "      <td>0.000000</td>\n",
       "      <td>0.000000</td>\n",
       "    </tr>\n",
       "    <tr>\n",
       "      <th>50%</th>\n",
       "      <td>105501.000000</td>\n",
       "      <td>0.000000</td>\n",
       "      <td>0.000000</td>\n",
       "      <td>0.000000</td>\n",
       "      <td>0.000000</td>\n",
       "      <td>0.000000</td>\n",
       "      <td>0.000000</td>\n",
       "      <td>0.000000</td>\n",
       "      <td>0.000000</td>\n",
       "      <td>0.000000</td>\n",
       "      <td>...</td>\n",
       "      <td>0.000000</td>\n",
       "      <td>0.000000</td>\n",
       "      <td>0.000000</td>\n",
       "      <td>0.000000</td>\n",
       "      <td>0.000000</td>\n",
       "      <td>0.000000</td>\n",
       "      <td>0.000000</td>\n",
       "      <td>0.000000</td>\n",
       "      <td>0.000000</td>\n",
       "      <td>0.000000</td>\n",
       "    </tr>\n",
       "    <tr>\n",
       "      <th>75%</th>\n",
       "      <td>180591.000000</td>\n",
       "      <td>0.000000</td>\n",
       "      <td>0.000000</td>\n",
       "      <td>0.000000</td>\n",
       "      <td>0.000000</td>\n",
       "      <td>0.000000</td>\n",
       "      <td>0.000000</td>\n",
       "      <td>0.000000</td>\n",
       "      <td>0.000000</td>\n",
       "      <td>0.000000</td>\n",
       "      <td>...</td>\n",
       "      <td>0.000000</td>\n",
       "      <td>0.000000</td>\n",
       "      <td>0.000000</td>\n",
       "      <td>0.000000</td>\n",
       "      <td>0.000000</td>\n",
       "      <td>0.000000</td>\n",
       "      <td>0.000000</td>\n",
       "      <td>0.000000</td>\n",
       "      <td>0.000000</td>\n",
       "      <td>0.000000</td>\n",
       "    </tr>\n",
       "    <tr>\n",
       "      <th>max</th>\n",
       "      <td>239955.000000</td>\n",
       "      <td>10.012658</td>\n",
       "      <td>12.000000</td>\n",
       "      <td>1792.000000</td>\n",
       "      <td>1.000000</td>\n",
       "      <td>1.000000</td>\n",
       "      <td>20.000000</td>\n",
       "      <td>87.000000</td>\n",
       "      <td>2.333333</td>\n",
       "      <td>519.500000</td>\n",
       "      <td>...</td>\n",
       "      <td>33.951456</td>\n",
       "      <td>48.206349</td>\n",
       "      <td>159.000000</td>\n",
       "      <td>3.000000</td>\n",
       "      <td>108.000000</td>\n",
       "      <td>21.000000</td>\n",
       "      <td>19.250000</td>\n",
       "      <td>23.800000</td>\n",
       "      <td>445.500000</td>\n",
       "      <td>1.000000</td>\n",
       "    </tr>\n",
       "  </tbody>\n",
       "</table>\n",
       "<p>8 rows × 64 columns</p>\n",
       "</div>"
      ],
      "text/plain": [
       "          account_id      feature1      feature2      feature3      feature4  \\\n",
       "count   93175.000000  93175.000000  93175.000000  93175.000000  93175.000000   \n",
       "mean   133995.894285      0.004556      0.000312      1.359866      0.000058   \n",
       "std     42988.942443      0.122827      0.047580     15.638121      0.011410   \n",
       "min    100000.000000     -0.894737     -0.705882     -0.999442     -0.500000   \n",
       "25%    101604.000000      0.000000      0.000000      0.000000      0.000000   \n",
       "50%    105501.000000      0.000000      0.000000      0.000000      0.000000   \n",
       "75%    180591.000000      0.000000      0.000000      0.000000      0.000000   \n",
       "max    239955.000000     10.012658     12.000000   1792.000000      1.000000   \n",
       "\n",
       "           feature5      feature6      feature7      feature8      feature9  \\\n",
       "count  93175.000000  93175.000000  93175.000000  93175.000000  93175.000000   \n",
       "mean       0.000051      0.001871      0.014587      0.000278      0.026780   \n",
       "std        0.010946      0.107718      0.537802      0.026331      1.931629   \n",
       "min       -0.500000     -0.916667     -0.992701     -0.700000     -0.998079   \n",
       "25%        0.000000      0.000000      0.000000      0.000000      0.000000   \n",
       "50%        0.000000      0.000000      0.000000      0.000000      0.000000   \n",
       "75%        0.000000      0.000000      0.000000      0.000000      0.000000   \n",
       "max        1.000000     20.000000     87.000000      2.333333    519.500000   \n",
       "\n",
       "       ...     feature54     feature55     feature56     feature57  \\\n",
       "count  ...  93175.000000  93175.000000  93175.000000  93175.000000   \n",
       "mean   ...      0.000730      0.050951      0.018393      0.000104   \n",
       "std    ...      0.117225      0.588272      0.856218      0.016880   \n",
       "min    ...     -0.782609     -0.975000     -0.993750     -0.750000   \n",
       "25%    ...      0.000000      0.000000      0.000000      0.000000   \n",
       "50%    ...      0.000000      0.000000      0.000000      0.000000   \n",
       "75%    ...      0.000000      0.000000      0.000000      0.000000   \n",
       "max    ...     33.951456     48.206349    159.000000      3.000000   \n",
       "\n",
       "          feature58     feature59     feature60     feature61     feature62  \\\n",
       "count  93175.000000  93175.000000  93175.000000  93175.000000  93175.000000   \n",
       "mean       0.028186      0.003016      0.002903      0.001772      0.046110   \n",
       "std        0.827953      0.147153      0.130436      0.119347      1.902486   \n",
       "min       -0.989455     -0.926471     -0.989691     -0.907514     -0.996314   \n",
       "25%        0.000000      0.000000      0.000000      0.000000      0.000000   \n",
       "50%        0.000000      0.000000      0.000000      0.000000      0.000000   \n",
       "75%        0.000000      0.000000      0.000000      0.000000      0.000000   \n",
       "max      108.000000     21.000000     19.250000     23.800000    445.500000   \n",
       "\n",
       "              Label  \n",
       "count  93175.000000  \n",
       "mean       0.006965  \n",
       "std        0.083168  \n",
       "min        0.000000  \n",
       "25%        0.000000  \n",
       "50%        0.000000  \n",
       "75%        0.000000  \n",
       "max        1.000000  \n",
       "\n",
       "[8 rows x 64 columns]"
      ]
     },
     "execution_count": 13,
     "metadata": {},
     "output_type": "execute_result"
    }
   ],
   "source": [
    "train_data.describe()"
   ]
  },
  {
   "cell_type": "markdown",
   "metadata": {},
   "source": [
    "- Most of the values are 0\n",
    "- mean value for columns (Except account, date, label) are not 0 where as median and 75% values are 0\n",
    "- values are susceptible to outliers\n",
    "- Feature Engineering - Scaling of variables"
   ]
  },
  {
   "cell_type": "code",
   "execution_count": 14,
   "metadata": {},
   "outputs": [
    {
     "name": "stdout",
     "output_type": "stream",
     "text": [
      "<class 'pandas.core.frame.DataFrame'>\n",
      "Int64Index: 93175 entries, 0 to 114705\n",
      "Data columns (total 65 columns):\n",
      "account_id         93175 non-null float64\n",
      "week_start_date    93175 non-null object\n",
      "feature1           93175 non-null float64\n",
      "feature2           93175 non-null float64\n",
      "feature3           93175 non-null float64\n",
      "feature4           93175 non-null float64\n",
      "feature5           93175 non-null float64\n",
      "feature6           93175 non-null float64\n",
      "feature7           93175 non-null float64\n",
      "feature8           93175 non-null float64\n",
      "feature9           93175 non-null float64\n",
      "feature10          93175 non-null float64\n",
      "feature11          93175 non-null float64\n",
      "feature12          93175 non-null float64\n",
      "feature13          93175 non-null float64\n",
      "feature14          93175 non-null float64\n",
      "feature15          93175 non-null float64\n",
      "feature16          93175 non-null float64\n",
      "feature17          93175 non-null float64\n",
      "feature18          93175 non-null float64\n",
      "feature19          93175 non-null float64\n",
      "feature20          93175 non-null float64\n",
      "feature21          93175 non-null float64\n",
      "feature22          93175 non-null float64\n",
      "feature23          93175 non-null float64\n",
      "feature24          93175 non-null float64\n",
      "feature25          93175 non-null float64\n",
      "feature26          93175 non-null float64\n",
      "feature27          93175 non-null float64\n",
      "feature28          93175 non-null float64\n",
      "feature29          93175 non-null float64\n",
      "feature30          93175 non-null float64\n",
      "feature31          93175 non-null float64\n",
      "feature32          93175 non-null float64\n",
      "feature33          93175 non-null float64\n",
      "feature34          93175 non-null float64\n",
      "feature35          93175 non-null float64\n",
      "feature36          93175 non-null float64\n",
      "feature37          93175 non-null float64\n",
      "feature38          93175 non-null float64\n",
      "feature39          93175 non-null float64\n",
      "feature40          93175 non-null float64\n",
      "feature41          93175 non-null float64\n",
      "feature42          93175 non-null float64\n",
      "feature43          93175 non-null float64\n",
      "feature44          93175 non-null float64\n",
      "feature45          93175 non-null float64\n",
      "feature46          93175 non-null float64\n",
      "feature47          93175 non-null float64\n",
      "feature48          93175 non-null float64\n",
      "feature49          93175 non-null float64\n",
      "feature50          93175 non-null float64\n",
      "feature51          93175 non-null float64\n",
      "feature52          93175 non-null float64\n",
      "feature53          93175 non-null float64\n",
      "feature54          93175 non-null float64\n",
      "feature55          93175 non-null float64\n",
      "feature56          93175 non-null float64\n",
      "feature57          93175 non-null float64\n",
      "feature58          93175 non-null float64\n",
      "feature59          93175 non-null float64\n",
      "feature60          93175 non-null float64\n",
      "feature61          93175 non-null float64\n",
      "feature62          93175 non-null float64\n",
      "Label              93175 non-null int64\n",
      "dtypes: float64(63), int64(1), object(1)\n",
      "memory usage: 46.9+ MB\n"
     ]
    }
   ],
   "source": [
    "train_data.info()"
   ]
  },
  {
   "cell_type": "markdown",
   "metadata": {},
   "source": [
    "- No null values"
   ]
  },
  {
   "cell_type": "code",
   "execution_count": 15,
   "metadata": {},
   "outputs": [
    {
     "data": {
      "text/plain": [
       "0    0.993035\n",
       "1    0.006965\n",
       "Name: Label, dtype: float64"
      ]
     },
     "execution_count": 15,
     "metadata": {},
     "output_type": "execute_result"
    }
   ],
   "source": [
    "train_data['Label'].value_counts(normalize = True)"
   ]
  },
  {
   "cell_type": "markdown",
   "metadata": {},
   "source": [
    "Data is highly skewed\n",
    "- 1: 0.6%\n",
    "- 0: 99.3%"
   ]
  },
  {
   "cell_type": "code",
   "execution_count": 16,
   "metadata": {},
   "outputs": [
    {
     "data": {
      "text/plain": [
       "0    92526\n",
       "1      649\n",
       "Name: Label, dtype: int64"
      ]
     },
     "execution_count": 16,
     "metadata": {},
     "output_type": "execute_result"
    }
   ],
   "source": [
    "train_data['Label'].value_counts()"
   ]
  },
  {
   "cell_type": "code",
   "execution_count": 17,
   "metadata": {},
   "outputs": [
    {
     "data": {
      "text/plain": [
       "100583.0    134\n",
       "100162.0    133\n",
       "100746.0    133\n",
       "101799.0    132\n",
       "105810.0    126\n",
       "           ... \n",
       "187622.0      1\n",
       "100559.0      1\n",
       "105388.0      1\n",
       "100796.0      1\n",
       "239955.0      1\n",
       "Name: account_id, Length: 2690, dtype: int64"
      ]
     },
     "execution_count": 17,
     "metadata": {},
     "output_type": "execute_result"
    }
   ],
   "source": [
    "train_data['account_id'].value_counts()"
   ]
  },
  {
   "cell_type": "code",
   "execution_count": 18,
   "metadata": {},
   "outputs": [],
   "source": [
    "# feature interaction\n",
    "features = ['feature'+str(i) for i in range(1,63)]"
   ]
  },
  {
   "cell_type": "code",
   "execution_count": 19,
   "metadata": {},
   "outputs": [
    {
     "data": {
      "image/png": "[encoded data removed]",
      "text/plain": [
       "<Figure size 2880x1440 with 2 Axes>"
      ]
     },
     "metadata": {
      "needs_background": "light"
     },
     "output_type": "display_data"
    }
   ],
   "source": [
    "# Compute the correlation matrix\n",
    "corr = train_data[features + ['Label']].corr()\n",
    "\n",
    "# Generate a mask for the upper triangle\n",
    "mask = np.triu(np.ones_like(corr, dtype=np.bool))\n",
    "\n",
    "# Set up the matplotlib figure\n",
    "f, ax = plt.subplots(figsize=(40, 20))\n",
    "\n",
    "# Generate a custom diverging colormap\n",
    "cmap = sns.diverging_palette(220, 10, as_cmap=True)\n",
    "\n",
    "# Draw the heatmap with the mask and correct aspect ratio\n",
    "sns.heatmap(corr, mask=mask, cmap=cmap, vmax=.3, center=0,\n",
    "            square=True, linewidths=.5, cbar_kws={\"shrink\": .5}, fmt = '0.1f')\n",
    "plt.show()\n",
    "\n"
   ]
  },
  {
   "cell_type": "markdown",
   "metadata": {},
   "source": [
    "- Correlation is present among the features"
   ]
  },
  {
   "cell_type": "code",
   "execution_count": 20,
   "metadata": {},
   "outputs": [
    {
     "data": {
      "text/html": [
       "<div>\n",
       "<style scoped>\n",
       "    .dataframe tbody tr th:only-of-type {\n",
       "        vertical-align: middle;\n",
       "    }\n",
       "\n",
       "    .dataframe tbody tr th {\n",
       "        vertical-align: top;\n",
       "    }\n",
       "\n",
       "    .dataframe thead th {\n",
       "        text-align: right;\n",
       "    }\n",
       "</style>\n",
       "<table border=\"1\" class=\"dataframe\">\n",
       "  <thead>\n",
       "    <tr style=\"text-align: right;\">\n",
       "      <th></th>\n",
       "      <th>feature1</th>\n",
       "      <th>feature2</th>\n",
       "      <th>feature3</th>\n",
       "      <th>feature4</th>\n",
       "      <th>feature5</th>\n",
       "      <th>feature6</th>\n",
       "      <th>feature7</th>\n",
       "      <th>feature8</th>\n",
       "      <th>feature9</th>\n",
       "      <th>feature10</th>\n",
       "      <th>...</th>\n",
       "      <th>feature54</th>\n",
       "      <th>feature55</th>\n",
       "      <th>feature56</th>\n",
       "      <th>feature57</th>\n",
       "      <th>feature58</th>\n",
       "      <th>feature59</th>\n",
       "      <th>feature60</th>\n",
       "      <th>feature61</th>\n",
       "      <th>feature62</th>\n",
       "      <th>Label</th>\n",
       "    </tr>\n",
       "  </thead>\n",
       "  <tbody>\n",
       "    <tr>\n",
       "      <th>feature1</th>\n",
       "      <td>1.000000</td>\n",
       "      <td>0.042986</td>\n",
       "      <td>0.015031</td>\n",
       "      <td>0.011799</td>\n",
       "      <td>-0.000248</td>\n",
       "      <td>0.052856</td>\n",
       "      <td>0.166752</td>\n",
       "      <td>0.107994</td>\n",
       "      <td>0.013533</td>\n",
       "      <td>0.014932</td>\n",
       "      <td>...</td>\n",
       "      <td>0.268574</td>\n",
       "      <td>0.289057</td>\n",
       "      <td>0.091728</td>\n",
       "      <td>0.012272</td>\n",
       "      <td>0.017595</td>\n",
       "      <td>0.018964</td>\n",
       "      <td>0.113698</td>\n",
       "      <td>0.074381</td>\n",
       "      <td>0.035557</td>\n",
       "      <td>-0.003219</td>\n",
       "    </tr>\n",
       "    <tr>\n",
       "      <th>feature2</th>\n",
       "      <td>0.042986</td>\n",
       "      <td>1.000000</td>\n",
       "      <td>0.000985</td>\n",
       "      <td>-0.000033</td>\n",
       "      <td>-0.000030</td>\n",
       "      <td>0.041615</td>\n",
       "      <td>0.013757</td>\n",
       "      <td>0.032099</td>\n",
       "      <td>0.015483</td>\n",
       "      <td>0.061593</td>\n",
       "      <td>...</td>\n",
       "      <td>0.131729</td>\n",
       "      <td>0.037754</td>\n",
       "      <td>0.054821</td>\n",
       "      <td>-0.004495</td>\n",
       "      <td>0.000066</td>\n",
       "      <td>0.001894</td>\n",
       "      <td>0.003380</td>\n",
       "      <td>0.125495</td>\n",
       "      <td>0.000071</td>\n",
       "      <td>-0.000549</td>\n",
       "    </tr>\n",
       "    <tr>\n",
       "      <th>feature3</th>\n",
       "      <td>0.015031</td>\n",
       "      <td>0.000985</td>\n",
       "      <td>1.000000</td>\n",
       "      <td>0.003608</td>\n",
       "      <td>-0.000100</td>\n",
       "      <td>0.009440</td>\n",
       "      <td>0.004267</td>\n",
       "      <td>0.002428</td>\n",
       "      <td>0.002205</td>\n",
       "      <td>0.017452</td>\n",
       "      <td>...</td>\n",
       "      <td>0.008552</td>\n",
       "      <td>0.091805</td>\n",
       "      <td>0.003821</td>\n",
       "      <td>0.002082</td>\n",
       "      <td>0.020899</td>\n",
       "      <td>0.005089</td>\n",
       "      <td>0.028879</td>\n",
       "      <td>0.004089</td>\n",
       "      <td>0.015464</td>\n",
       "      <td>0.000960</td>\n",
       "    </tr>\n",
       "    <tr>\n",
       "      <th>feature4</th>\n",
       "      <td>0.011799</td>\n",
       "      <td>-0.000033</td>\n",
       "      <td>0.003608</td>\n",
       "      <td>1.000000</td>\n",
       "      <td>-0.000024</td>\n",
       "      <td>0.005714</td>\n",
       "      <td>-0.000139</td>\n",
       "      <td>-0.000054</td>\n",
       "      <td>0.002632</td>\n",
       "      <td>-0.000094</td>\n",
       "      <td>...</td>\n",
       "      <td>-0.000032</td>\n",
       "      <td>-0.006003</td>\n",
       "      <td>-0.001083</td>\n",
       "      <td>-0.003747</td>\n",
       "      <td>0.002160</td>\n",
       "      <td>0.014354</td>\n",
       "      <td>0.001138</td>\n",
       "      <td>-0.000076</td>\n",
       "      <td>0.001453</td>\n",
       "      <td>0.020874</td>\n",
       "    </tr>\n",
       "    <tr>\n",
       "      <th>feature5</th>\n",
       "      <td>-0.000248</td>\n",
       "      <td>-0.000030</td>\n",
       "      <td>-0.000100</td>\n",
       "      <td>-0.000024</td>\n",
       "      <td>1.000000</td>\n",
       "      <td>-0.000037</td>\n",
       "      <td>-0.000126</td>\n",
       "      <td>-0.000049</td>\n",
       "      <td>0.131861</td>\n",
       "      <td>-0.000085</td>\n",
       "      <td>...</td>\n",
       "      <td>-0.000029</td>\n",
       "      <td>0.009658</td>\n",
       "      <td>0.000166</td>\n",
       "      <td>-0.000028</td>\n",
       "      <td>0.006158</td>\n",
       "      <td>-0.003426</td>\n",
       "      <td>-0.000103</td>\n",
       "      <td>-0.000069</td>\n",
       "      <td>-0.000308</td>\n",
       "      <td>-0.000388</td>\n",
       "    </tr>\n",
       "    <tr>\n",
       "      <th>...</th>\n",
       "      <td>...</td>\n",
       "      <td>...</td>\n",
       "      <td>...</td>\n",
       "      <td>...</td>\n",
       "      <td>...</td>\n",
       "      <td>...</td>\n",
       "      <td>...</td>\n",
       "      <td>...</td>\n",
       "      <td>...</td>\n",
       "      <td>...</td>\n",
       "      <td>...</td>\n",
       "      <td>...</td>\n",
       "      <td>...</td>\n",
       "      <td>...</td>\n",
       "      <td>...</td>\n",
       "      <td>...</td>\n",
       "      <td>...</td>\n",
       "      <td>...</td>\n",
       "      <td>...</td>\n",
       "      <td>...</td>\n",
       "      <td>...</td>\n",
       "    </tr>\n",
       "    <tr>\n",
       "      <th>feature59</th>\n",
       "      <td>0.018964</td>\n",
       "      <td>0.001894</td>\n",
       "      <td>0.005089</td>\n",
       "      <td>0.014354</td>\n",
       "      <td>-0.003426</td>\n",
       "      <td>0.037966</td>\n",
       "      <td>0.002336</td>\n",
       "      <td>0.037095</td>\n",
       "      <td>-0.001146</td>\n",
       "      <td>0.063869</td>\n",
       "      <td>...</td>\n",
       "      <td>-0.001637</td>\n",
       "      <td>0.049629</td>\n",
       "      <td>0.001207</td>\n",
       "      <td>0.061881</td>\n",
       "      <td>0.005165</td>\n",
       "      <td>1.000000</td>\n",
       "      <td>0.016394</td>\n",
       "      <td>0.003951</td>\n",
       "      <td>0.006146</td>\n",
       "      <td>-0.002330</td>\n",
       "    </tr>\n",
       "    <tr>\n",
       "      <th>feature60</th>\n",
       "      <td>0.113698</td>\n",
       "      <td>0.003380</td>\n",
       "      <td>0.028879</td>\n",
       "      <td>0.001138</td>\n",
       "      <td>-0.000103</td>\n",
       "      <td>0.003922</td>\n",
       "      <td>0.036800</td>\n",
       "      <td>-0.000889</td>\n",
       "      <td>0.005896</td>\n",
       "      <td>0.086575</td>\n",
       "      <td>...</td>\n",
       "      <td>0.026442</td>\n",
       "      <td>0.277786</td>\n",
       "      <td>0.016572</td>\n",
       "      <td>0.000838</td>\n",
       "      <td>0.006102</td>\n",
       "      <td>0.016394</td>\n",
       "      <td>1.000000</td>\n",
       "      <td>0.038888</td>\n",
       "      <td>0.004462</td>\n",
       "      <td>0.003978</td>\n",
       "    </tr>\n",
       "    <tr>\n",
       "      <th>feature61</th>\n",
       "      <td>0.074381</td>\n",
       "      <td>0.125495</td>\n",
       "      <td>0.004089</td>\n",
       "      <td>-0.000076</td>\n",
       "      <td>-0.000069</td>\n",
       "      <td>-0.003086</td>\n",
       "      <td>0.049050</td>\n",
       "      <td>0.034254</td>\n",
       "      <td>0.006394</td>\n",
       "      <td>0.013034</td>\n",
       "      <td>...</td>\n",
       "      <td>0.011196</td>\n",
       "      <td>0.065869</td>\n",
       "      <td>0.067209</td>\n",
       "      <td>-0.002163</td>\n",
       "      <td>-0.001197</td>\n",
       "      <td>0.003951</td>\n",
       "      <td>0.038888</td>\n",
       "      <td>1.000000</td>\n",
       "      <td>-0.000408</td>\n",
       "      <td>-0.000973</td>\n",
       "    </tr>\n",
       "    <tr>\n",
       "      <th>feature62</th>\n",
       "      <td>0.035557</td>\n",
       "      <td>0.000071</td>\n",
       "      <td>0.015464</td>\n",
       "      <td>0.001453</td>\n",
       "      <td>-0.000308</td>\n",
       "      <td>0.003828</td>\n",
       "      <td>0.077089</td>\n",
       "      <td>0.007983</td>\n",
       "      <td>0.004036</td>\n",
       "      <td>0.004056</td>\n",
       "      <td>...</td>\n",
       "      <td>-0.000122</td>\n",
       "      <td>0.013422</td>\n",
       "      <td>0.001927</td>\n",
       "      <td>0.008944</td>\n",
       "      <td>0.067935</td>\n",
       "      <td>0.006146</td>\n",
       "      <td>0.004462</td>\n",
       "      <td>-0.000408</td>\n",
       "      <td>1.000000</td>\n",
       "      <td>-0.001908</td>\n",
       "    </tr>\n",
       "    <tr>\n",
       "      <th>Label</th>\n",
       "      <td>-0.003219</td>\n",
       "      <td>-0.000549</td>\n",
       "      <td>0.000960</td>\n",
       "      <td>0.020874</td>\n",
       "      <td>-0.000388</td>\n",
       "      <td>-0.002054</td>\n",
       "      <td>-0.002282</td>\n",
       "      <td>-0.000883</td>\n",
       "      <td>-0.000907</td>\n",
       "      <td>-0.002272</td>\n",
       "      <td>...</td>\n",
       "      <td>0.001955</td>\n",
       "      <td>0.002402</td>\n",
       "      <td>-0.001551</td>\n",
       "      <td>0.002034</td>\n",
       "      <td>-0.000912</td>\n",
       "      <td>-0.002330</td>\n",
       "      <td>0.003978</td>\n",
       "      <td>-0.000973</td>\n",
       "      <td>-0.001908</td>\n",
       "      <td>1.000000</td>\n",
       "    </tr>\n",
       "  </tbody>\n",
       "</table>\n",
       "<p>63 rows × 63 columns</p>\n",
       "</div>"
      ],
      "text/plain": [
       "           feature1  feature2  feature3  feature4  feature5  feature6  \\\n",
       "feature1   1.000000  0.042986  0.015031  0.011799 -0.000248  0.052856   \n",
       "feature2   0.042986  1.000000  0.000985 -0.000033 -0.000030  0.041615   \n",
       "feature3   0.015031  0.000985  1.000000  0.003608 -0.000100  0.009440   \n",
       "feature4   0.011799 -0.000033  0.003608  1.000000 -0.000024  0.005714   \n",
       "feature5  -0.000248 -0.000030 -0.000100 -0.000024  1.000000 -0.000037   \n",
       "...             ...       ...       ...       ...       ...       ...   \n",
       "feature59  0.018964  0.001894  0.005089  0.014354 -0.003426  0.037966   \n",
       "feature60  0.113698  0.003380  0.028879  0.001138 -0.000103  0.003922   \n",
       "feature61  0.074381  0.125495  0.004089 -0.000076 -0.000069 -0.003086   \n",
       "feature62  0.035557  0.000071  0.015464  0.001453 -0.000308  0.003828   \n",
       "Label     -0.003219 -0.000549  0.000960  0.020874 -0.000388 -0.002054   \n",
       "\n",
       "           feature7  feature8  feature9  feature10  ...  feature54  feature55  \\\n",
       "feature1   0.166752  0.107994  0.013533   0.014932  ...   0.268574   0.289057   \n",
       "feature2   0.013757  0.032099  0.015483   0.061593  ...   0.131729   0.037754   \n",
       "feature3   0.004267  0.002428  0.002205   0.017452  ...   0.008552   0.091805   \n",
       "feature4  -0.000139 -0.000054  0.002632  -0.000094  ...  -0.000032  -0.006003   \n",
       "feature5  -0.000126 -0.000049  0.131861  -0.000085  ...  -0.000029   0.009658   \n",
       "...             ...       ...       ...        ...  ...        ...        ...   \n",
       "feature59  0.002336  0.037095 -0.001146   0.063869  ...  -0.001637   0.049629   \n",
       "feature60  0.036800 -0.000889  0.005896   0.086575  ...   0.026442   0.277786   \n",
       "feature61  0.049050  0.034254  0.006394   0.013034  ...   0.011196   0.065869   \n",
       "feature62  0.077089  0.007983  0.004036   0.004056  ...  -0.000122   0.013422   \n",
       "Label     -0.002282 -0.000883 -0.000907  -0.002272  ...   0.001955   0.002402   \n",
       "\n",
       "           feature56  feature57  feature58  feature59  feature60  feature61  \\\n",
       "feature1    0.091728   0.012272   0.017595   0.018964   0.113698   0.074381   \n",
       "feature2    0.054821  -0.004495   0.000066   0.001894   0.003380   0.125495   \n",
       "feature3    0.003821   0.002082   0.020899   0.005089   0.028879   0.004089   \n",
       "feature4   -0.001083  -0.003747   0.002160   0.014354   0.001138  -0.000076   \n",
       "feature5    0.000166  -0.000028   0.006158  -0.003426  -0.000103  -0.000069   \n",
       "...              ...        ...        ...        ...        ...        ...   \n",
       "feature59   0.001207   0.061881   0.005165   1.000000   0.016394   0.003951   \n",
       "feature60   0.016572   0.000838   0.006102   0.016394   1.000000   0.038888   \n",
       "feature61   0.067209  -0.002163  -0.001197   0.003951   0.038888   1.000000   \n",
       "feature62   0.001927   0.008944   0.067935   0.006146   0.004462  -0.000408   \n",
       "Label      -0.001551   0.002034  -0.000912  -0.002330   0.003978  -0.000973   \n",
       "\n",
       "           feature62     Label  \n",
       "feature1    0.035557 -0.003219  \n",
       "feature2    0.000071 -0.000549  \n",
       "feature3    0.015464  0.000960  \n",
       "feature4    0.001453  0.020874  \n",
       "feature5   -0.000308 -0.000388  \n",
       "...              ...       ...  \n",
       "feature59   0.006146 -0.002330  \n",
       "feature60   0.004462  0.003978  \n",
       "feature61  -0.000408 -0.000973  \n",
       "feature62   1.000000 -0.001908  \n",
       "Label      -0.001908  1.000000  \n",
       "\n",
       "[63 rows x 63 columns]"
      ]
     },
     "execution_count": 20,
     "metadata": {},
     "output_type": "execute_result"
    }
   ],
   "source": [
    "corr"
   ]
  },
  {
   "cell_type": "code",
   "execution_count": 21,
   "metadata": {},
   "outputs": [],
   "source": [
    "train_data_one = train_data[train_data['Label'] == 1]"
   ]
  },
  {
   "cell_type": "code",
   "execution_count": 22,
   "metadata": {},
   "outputs": [
    {
     "data": {
      "text/plain": [
       "(649, 65)"
      ]
     },
     "execution_count": 22,
     "metadata": {},
     "output_type": "execute_result"
    }
   ],
   "source": [
    "train_data_one.shape"
   ]
  },
  {
   "cell_type": "code",
   "execution_count": 23,
   "metadata": {},
   "outputs": [],
   "source": [
    "train_data_one['feature_sum'] = train_data_one[features].sum(axis = 1)"
   ]
  },
  {
   "cell_type": "code",
   "execution_count": 24,
   "metadata": {},
   "outputs": [
    {
     "data": {
      "text/plain": [
       "190"
      ]
     },
     "execution_count": 24,
     "metadata": {},
     "output_type": "execute_result"
    }
   ],
   "source": [
    "sum(train_data_one['feature_sum'] == 0)"
   ]
  },
  {
   "cell_type": "code",
   "execution_count": 25,
   "metadata": {},
   "outputs": [],
   "source": [
    "train_data_zero = train_data[train_data['Label'] == 0]"
   ]
  },
  {
   "cell_type": "code",
   "execution_count": 26,
   "metadata": {},
   "outputs": [],
   "source": [
    "train_data_zero['feature_sum'] = train_data_zero[features].sum(axis = 1)"
   ]
  },
  {
   "cell_type": "code",
   "execution_count": 27,
   "metadata": {},
   "outputs": [
    {
     "data": {
      "text/plain": [
       "28378"
      ]
     },
     "execution_count": 27,
     "metadata": {},
     "output_type": "execute_result"
    }
   ],
   "source": [
    "sum(train_data_zero['feature_sum'] > 0)"
   ]
  },
  {
   "cell_type": "code",
   "execution_count": 28,
   "metadata": {},
   "outputs": [
    {
     "data": {
      "text/plain": [
       "(92526, 66)"
      ]
     },
     "execution_count": 28,
     "metadata": {},
     "output_type": "execute_result"
    }
   ],
   "source": [
    "train_data_zero.shape"
   ]
  },
  {
   "cell_type": "code",
   "execution_count": 29,
   "metadata": {},
   "outputs": [
    {
     "data": {
      "text/plain": [
       "0"
      ]
     },
     "execution_count": 29,
     "metadata": {},
     "output_type": "execute_result"
    }
   ],
   "source": [
    "# features with all value zero\n",
    "sum(train_data.sum(axis = 0) == 0)"
   ]
  },
  {
   "cell_type": "markdown",
   "metadata": {},
   "source": [
    "# 3. Modeling on raw data"
   ]
  },
  {
   "cell_type": "code",
   "execution_count": 116,
   "metadata": {},
   "outputs": [],
   "source": [
    "# Creating function training the data on multiple algorithms\n",
    "def trainData(X_train, X_test, y_train, y_test):\n",
    "\n",
    "    '''\n",
    "    Function to train the model on training sets\n",
    "    \n",
    "    input: X_test, X_train, y_train, y_test\n",
    "    output: models (svc, log_reg, d_tree, rf)\n",
    "    '''\n",
    "    # SVM\n",
    "    # instantiate\n",
    "    svc = LinearSVC(max_iter = 3000)\n",
    "    # fit\n",
    "    svc.fit(X_train, y_train)\n",
    "\n",
    "\n",
    "    # Logistic\n",
    "    # instantiate\n",
    "    log_reg = LogisticRegression(max_iter = 2000)\n",
    "    # fit\n",
    "    log_reg.fit(X_train, y_train)\n",
    "\n",
    "    # Decision Tree\n",
    "    # instantiate\n",
    "    d_tree = DecisionTreeClassifier()\n",
    "    # fit\n",
    "    d_tree.fit(X_train, y_train)\n",
    "\n",
    "\n",
    "    # Random Forest\n",
    "    # instantiate\n",
    "    rf = RandomForestClassifier()\n",
    "    # fit\n",
    "    rf.fit(X_train, y_train)\n",
    "    \n",
    "    return svc, log_reg, d_tree, rf"
   ]
  },
  {
   "cell_type": "code",
   "execution_count": 147,
   "metadata": {},
   "outputs": [],
   "source": [
    "# Creating a function to plot precision_recall curve\n",
    "def plot_curve(ax, X_test, y_test):\n",
    "    plot_precision_recall_curve(svc, X_test, y_test, ax = ax)\n",
    "    plot_precision_recall_curve(log_reg, X_test, y_test, ax = ax)\n",
    "    plot_precision_recall_curve(d_tree, X_test, y_test, ax = ax)\n",
    "    plot_precision_recall_curve(rf, X_test, y_test, ax = ax)\n",
    "    plt.legend(loc='best', prop={'size': 10})\n",
    "    \n",
    "    return"
   ]
  },
  {
   "cell_type": "markdown",
   "metadata": {},
   "source": [
    "   ## 3.1 Without Feature Selection"
   ]
  },
  {
   "cell_type": "code",
   "execution_count": 150,
   "metadata": {},
   "outputs": [
    {
     "name": "stderr",
     "output_type": "stream",
     "text": [
      "C:\\Users\\eehvmvi\\AppData\\Local\\Continuum\\anaconda3\\lib\\site-packages\\sklearn\\svm\\_base.py:947: ConvergenceWarning:\n",
      "\n",
      "Liblinear failed to converge, increase the number of iterations.\n",
      "\n",
      "No handles with labels found to put in legend.\n"
     ]
    },
    {
     "data": {
      "image/png": "[encoded data removed]",
      "text/plain": [
       "<Figure size 1440x504 with 2 Axes>"
      ]
     },
     "metadata": {
      "needs_background": "light"
     },
     "output_type": "display_data"
    }
   ],
   "source": [
    "X=train_data[features]\n",
    "y=train_data['Label']\n",
    "X_train, X_test, y_train, y_test = train_test_split(X, y, test_size = 0.3, random_state = 4, stratify = y)\n",
    "X_train.shape, X_test.shape, y_train.shape, y_test.shape\n",
    "\n",
    "svc, log_reg, d_tree, rf = trainData(X_train, X_test, y_train, y_test)\n",
    "\n",
    "fig, ax = plt.subplots(nrows=1, ncols=2, figsize=(20, 7))\n",
    "plot_curve(ax = ax[0], X_test = X_test, y_test=y_test)\n",
    "\n",
    "# Visualizing results on test_data\n",
    "X_test, y_test = test_data[features], test_data['Label']\n",
    "plot_curve(ax = ax[1], X_test = X_test, y_test=y_test)\n",
    "plt.show()"
   ]
  },
  {
   "cell_type": "markdown",
   "metadata": {},
   "source": [
    "- The perfomance of `SVM` and `Logistic regression` is way below `Random Forest`\n",
    "- The model is built using raw features (without scaling). \n",
    "- Since SVM and Logistic Regression algorithms work on distance, therefore the perfomance of both the algorithms are low"
   ]
  },
  {
   "cell_type": "markdown",
   "metadata": {},
   "source": [
    "## 3.2 Feature Selection"
   ]
  },
  {
   "cell_type": "markdown",
   "metadata": {},
   "source": [
    "- For feature selection, I am using **WOE (Weight of Evidence)** and **Information Value** of features.\n",
    "- Based on information value, I will be choosing features"
   ]
  },
  {
   "cell_type": "markdown",
   "metadata": {},
   "source": [
    "**selecting important features from feature1 .... feature62**"
   ]
  },
  {
   "cell_type": "code",
   "execution_count": 36,
   "metadata": {},
   "outputs": [
    {
     "name": "stderr",
     "output_type": "stream",
     "text": [
      "C:\\Users\\eehvmvi\\AppData\\Local\\Continuum\\anaconda3\\lib\\site-packages\\pandas\\core\\series.py:856: RuntimeWarning:\n",
      "\n",
      "divide by zero encountered in log\n",
      "\n"
     ]
    },
    {
     "data": {
      "text/plain": [
       "WOE(exclude_features=None, feature_names='all', mono_cardinality_cutoff=5,\n",
       "    mono_custom_binning={'feature1': array([-0.89473684,  0.        , 10.01265823]),\n",
       "                         'feature10': array([-0.87209302,  0.        , 18.        ]),\n",
       "                         'feature11': array([-0.5,  0. ,  1. ]),\n",
       "                         'feature12': array([-0.9875,  0.    , 79.    ]),\n",
       "                         'feature13': array([-0.8125,  0.    , 20.    ]),\n",
       "                         'feature14': array([-0.90909091,  0.        , 67.28947368]),\n",
       "                         'feature15': array(...\n",
       "              'feature34': {Interval(-0.921, 0.0, closed='right'): 0.006335368125314215,\n",
       "                            Interval(0.0, 11.5, closed='right'): -0.3390049932080663},\n",
       "              'feature35': {Interval(-0.883, 0.0, closed='right'): 0.0011246405580134268,\n",
       "                            Interval(0.0, 7.5, closed='right'): 0.0},\n",
       "              'feature36': {Interval(-0.983, 0.0, closed='right'): 0.026019989962051987,\n",
       "                            Interval(0.0, 65.421, closed='right'): -1.4605083596251005}, ...},\n",
       "    woe_prefix=None)"
      ]
     },
     "execution_count": 36,
     "metadata": {},
     "output_type": "execute_result"
    }
   ],
   "source": [
    "X = train_data[features]\n",
    "\n",
    "# instantiate\n",
    "clf = WOE()\n",
    "\n",
    "# fit\n",
    "clf.fit(X,y)"
   ]
  },
  {
   "cell_type": "code",
   "execution_count": 37,
   "metadata": {},
   "outputs": [
    {
     "data": {
      "text/html": [
       "<div>\n",
       "<style scoped>\n",
       "    .dataframe tbody tr th:only-of-type {\n",
       "        vertical-align: middle;\n",
       "    }\n",
       "\n",
       "    .dataframe tbody tr th {\n",
       "        vertical-align: top;\n",
       "    }\n",
       "\n",
       "    .dataframe thead th {\n",
       "        text-align: right;\n",
       "    }\n",
       "</style>\n",
       "<table border=\"1\" class=\"dataframe\">\n",
       "  <thead>\n",
       "    <tr style=\"text-align: right;\">\n",
       "      <th></th>\n",
       "      <th>Variable_Name</th>\n",
       "      <th>Category</th>\n",
       "      <th>Count</th>\n",
       "      <th>Event</th>\n",
       "      <th>Non_Event</th>\n",
       "      <th>Event_Rate</th>\n",
       "      <th>Non_Event_Rate</th>\n",
       "      <th>Event_Distribution</th>\n",
       "      <th>Non_Event_Distribution</th>\n",
       "      <th>WOE</th>\n",
       "      <th>Information_Value</th>\n",
       "    </tr>\n",
       "  </thead>\n",
       "  <tbody>\n",
       "    <tr>\n",
       "      <th>0</th>\n",
       "      <td>feature1</td>\n",
       "      <td>(-0.896, 0.0]</td>\n",
       "      <td>91501</td>\n",
       "      <td>644</td>\n",
       "      <td>90857</td>\n",
       "      <td>0.007038</td>\n",
       "      <td>0.992962</td>\n",
       "      <td>0.992296</td>\n",
       "      <td>0.981962</td>\n",
       "      <td>0.010469</td>\n",
       "      <td>0.008900</td>\n",
       "    </tr>\n",
       "    <tr>\n",
       "      <th>1</th>\n",
       "      <td>feature1</td>\n",
       "      <td>(0.0, 10.013]</td>\n",
       "      <td>1674</td>\n",
       "      <td>5</td>\n",
       "      <td>1669</td>\n",
       "      <td>0.002987</td>\n",
       "      <td>0.997013</td>\n",
       "      <td>0.007704</td>\n",
       "      <td>0.018038</td>\n",
       "      <td>-0.850730</td>\n",
       "      <td>0.008900</td>\n",
       "    </tr>\n",
       "    <tr>\n",
       "      <th>2</th>\n",
       "      <td>feature10</td>\n",
       "      <td>(-0.873, 0.0]</td>\n",
       "      <td>92279</td>\n",
       "      <td>646</td>\n",
       "      <td>91633</td>\n",
       "      <td>0.007001</td>\n",
       "      <td>0.992999</td>\n",
       "      <td>0.995378</td>\n",
       "      <td>0.990349</td>\n",
       "      <td>0.005065</td>\n",
       "      <td>0.003728</td>\n",
       "    </tr>\n",
       "    <tr>\n",
       "      <th>3</th>\n",
       "      <td>feature10</td>\n",
       "      <td>(0.0, 18.0]</td>\n",
       "      <td>896</td>\n",
       "      <td>3</td>\n",
       "      <td>893</td>\n",
       "      <td>0.003348</td>\n",
       "      <td>0.996652</td>\n",
       "      <td>0.004622</td>\n",
       "      <td>0.009651</td>\n",
       "      <td>-0.736162</td>\n",
       "      <td>0.003728</td>\n",
       "    </tr>\n",
       "    <tr>\n",
       "      <th>4</th>\n",
       "      <td>feature11</td>\n",
       "      <td>(-0.501, 0.0]</td>\n",
       "      <td>93138</td>\n",
       "      <td>639</td>\n",
       "      <td>92499</td>\n",
       "      <td>0.006861</td>\n",
       "      <td>0.993139</td>\n",
       "      <td>0.984592</td>\n",
       "      <td>0.999708</td>\n",
       "      <td>-0.015236</td>\n",
       "      <td>0.060191</td>\n",
       "    </tr>\n",
       "    <tr>\n",
       "      <th>...</th>\n",
       "      <td>...</td>\n",
       "      <td>...</td>\n",
       "      <td>...</td>\n",
       "      <td>...</td>\n",
       "      <td>...</td>\n",
       "      <td>...</td>\n",
       "      <td>...</td>\n",
       "      <td>...</td>\n",
       "      <td>...</td>\n",
       "      <td>...</td>\n",
       "      <td>...</td>\n",
       "    </tr>\n",
       "    <tr>\n",
       "      <th>119</th>\n",
       "      <td>feature7</td>\n",
       "      <td>(0.0, 87.0]</td>\n",
       "      <td>2176</td>\n",
       "      <td>2</td>\n",
       "      <td>2174</td>\n",
       "      <td>0.000919</td>\n",
       "      <td>0.999081</td>\n",
       "      <td>0.003082</td>\n",
       "      <td>0.023496</td>\n",
       "      <td>-2.031365</td>\n",
       "      <td>0.041892</td>\n",
       "    </tr>\n",
       "    <tr>\n",
       "      <th>120</th>\n",
       "      <td>feature8</td>\n",
       "      <td>(-0.701, 0.0]</td>\n",
       "      <td>93002</td>\n",
       "      <td>649</td>\n",
       "      <td>92353</td>\n",
       "      <td>0.006978</td>\n",
       "      <td>0.993022</td>\n",
       "      <td>1.000000</td>\n",
       "      <td>0.998130</td>\n",
       "      <td>0.001871</td>\n",
       "      <td>0.000003</td>\n",
       "    </tr>\n",
       "    <tr>\n",
       "      <th>121</th>\n",
       "      <td>feature8</td>\n",
       "      <td>(0.0, 2.333]</td>\n",
       "      <td>173</td>\n",
       "      <td>0</td>\n",
       "      <td>173</td>\n",
       "      <td>0.000000</td>\n",
       "      <td>1.000000</td>\n",
       "      <td>0.000000</td>\n",
       "      <td>0.001870</td>\n",
       "      <td>0.000000</td>\n",
       "      <td>0.000003</td>\n",
       "    </tr>\n",
       "    <tr>\n",
       "      <th>122</th>\n",
       "      <td>feature9</td>\n",
       "      <td>(-0.999, 0.0]</td>\n",
       "      <td>89917</td>\n",
       "      <td>646</td>\n",
       "      <td>89271</td>\n",
       "      <td>0.007184</td>\n",
       "      <td>0.992816</td>\n",
       "      <td>0.995378</td>\n",
       "      <td>0.964821</td>\n",
       "      <td>0.031180</td>\n",
       "      <td>0.062968</td>\n",
       "    </tr>\n",
       "    <tr>\n",
       "      <th>123</th>\n",
       "      <td>feature9</td>\n",
       "      <td>(0.0, 519.5]</td>\n",
       "      <td>3258</td>\n",
       "      <td>3</td>\n",
       "      <td>3255</td>\n",
       "      <td>0.000921</td>\n",
       "      <td>0.999079</td>\n",
       "      <td>0.004622</td>\n",
       "      <td>0.035179</td>\n",
       "      <td>-2.029523</td>\n",
       "      <td>0.062968</td>\n",
       "    </tr>\n",
       "  </tbody>\n",
       "</table>\n",
       "<p>124 rows × 11 columns</p>\n",
       "</div>"
      ],
      "text/plain": [
       "    Variable_Name       Category  Count  Event  Non_Event  Event_Rate  \\\n",
       "0        feature1  (-0.896, 0.0]  91501    644      90857    0.007038   \n",
       "1        feature1  (0.0, 10.013]   1674      5       1669    0.002987   \n",
       "2       feature10  (-0.873, 0.0]  92279    646      91633    0.007001   \n",
       "3       feature10    (0.0, 18.0]    896      3        893    0.003348   \n",
       "4       feature11  (-0.501, 0.0]  93138    639      92499    0.006861   \n",
       "..            ...            ...    ...    ...        ...         ...   \n",
       "119      feature7    (0.0, 87.0]   2176      2       2174    0.000919   \n",
       "120      feature8  (-0.701, 0.0]  93002    649      92353    0.006978   \n",
       "121      feature8   (0.0, 2.333]    173      0        173    0.000000   \n",
       "122      feature9  (-0.999, 0.0]  89917    646      89271    0.007184   \n",
       "123      feature9   (0.0, 519.5]   3258      3       3255    0.000921   \n",
       "\n",
       "     Non_Event_Rate  Event_Distribution  Non_Event_Distribution       WOE  \\\n",
       "0          0.992962            0.992296                0.981962  0.010469   \n",
       "1          0.997013            0.007704                0.018038 -0.850730   \n",
       "2          0.992999            0.995378                0.990349  0.005065   \n",
       "3          0.996652            0.004622                0.009651 -0.736162   \n",
       "4          0.993139            0.984592                0.999708 -0.015236   \n",
       "..              ...                 ...                     ...       ...   \n",
       "119        0.999081            0.003082                0.023496 -2.031365   \n",
       "120        0.993022            1.000000                0.998130  0.001871   \n",
       "121        1.000000            0.000000                0.001870  0.000000   \n",
       "122        0.992816            0.995378                0.964821  0.031180   \n",
       "123        0.999079            0.004622                0.035179 -2.029523   \n",
       "\n",
       "     Information_Value  \n",
       "0             0.008900  \n",
       "1             0.008900  \n",
       "2             0.003728  \n",
       "3             0.003728  \n",
       "4             0.060191  \n",
       "..                 ...  \n",
       "119           0.041892  \n",
       "120           0.000003  \n",
       "121           0.000003  \n",
       "122           0.062968  \n",
       "123           0.062968  \n",
       "\n",
       "[124 rows x 11 columns]"
      ]
     },
     "execution_count": 37,
     "metadata": {},
     "output_type": "execute_result"
    }
   ],
   "source": [
    "# WOE : Weight Of Evidence Dataset\n",
    "clf.woe_df"
   ]
  },
  {
   "cell_type": "code",
   "execution_count": 38,
   "metadata": {},
   "outputs": [
    {
     "data": {
      "text/html": [
       "<div>\n",
       "<style scoped>\n",
       "    .dataframe tbody tr th:only-of-type {\n",
       "        vertical-align: middle;\n",
       "    }\n",
       "\n",
       "    .dataframe tbody tr th {\n",
       "        vertical-align: top;\n",
       "    }\n",
       "\n",
       "    .dataframe thead th {\n",
       "        text-align: right;\n",
       "    }\n",
       "</style>\n",
       "<table border=\"1\" class=\"dataframe\">\n",
       "  <thead>\n",
       "    <tr style=\"text-align: right;\">\n",
       "      <th></th>\n",
       "      <th>Variable_Name</th>\n",
       "      <th>Information_Value</th>\n",
       "    </tr>\n",
       "  </thead>\n",
       "  <tbody>\n",
       "    <tr>\n",
       "      <th>6</th>\n",
       "      <td>feature15</td>\n",
       "      <td>2.344675e+00</td>\n",
       "    </tr>\n",
       "    <tr>\n",
       "      <th>30</th>\n",
       "      <td>feature37</td>\n",
       "      <td>5.806562e-01</td>\n",
       "    </tr>\n",
       "    <tr>\n",
       "      <th>3</th>\n",
       "      <td>feature12</td>\n",
       "      <td>3.435444e-01</td>\n",
       "    </tr>\n",
       "    <tr>\n",
       "      <th>7</th>\n",
       "      <td>feature16</td>\n",
       "      <td>3.179174e-01</td>\n",
       "    </tr>\n",
       "    <tr>\n",
       "      <th>41</th>\n",
       "      <td>feature47</td>\n",
       "      <td>3.143082e-01</td>\n",
       "    </tr>\n",
       "    <tr>\n",
       "      <th>...</th>\n",
       "      <td>...</td>\n",
       "      <td>...</td>\n",
       "    </tr>\n",
       "    <tr>\n",
       "      <th>11</th>\n",
       "      <td>feature2</td>\n",
       "      <td>6.749600e-07</td>\n",
       "    </tr>\n",
       "    <tr>\n",
       "      <th>46</th>\n",
       "      <td>feature51</td>\n",
       "      <td>1.272266e-07</td>\n",
       "    </tr>\n",
       "    <tr>\n",
       "      <th>36</th>\n",
       "      <td>feature42</td>\n",
       "      <td>7.301484e-08</td>\n",
       "    </tr>\n",
       "    <tr>\n",
       "      <th>44</th>\n",
       "      <td>feature5</td>\n",
       "      <td>6.179909e-08</td>\n",
       "    </tr>\n",
       "    <tr>\n",
       "      <th>24</th>\n",
       "      <td>feature31</td>\n",
       "      <td>1.413460e-08</td>\n",
       "    </tr>\n",
       "  </tbody>\n",
       "</table>\n",
       "<p>62 rows × 2 columns</p>\n",
       "</div>"
      ],
      "text/plain": [
       "   Variable_Name  Information_Value\n",
       "6      feature15       2.344675e+00\n",
       "30     feature37       5.806562e-01\n",
       "3      feature12       3.435444e-01\n",
       "7      feature16       3.179174e-01\n",
       "41     feature47       3.143082e-01\n",
       "..           ...                ...\n",
       "11      feature2       6.749600e-07\n",
       "46     feature51       1.272266e-07\n",
       "36     feature42       7.301484e-08\n",
       "44      feature5       6.179909e-08\n",
       "24     feature31       1.413460e-08\n",
       "\n",
       "[62 rows x 2 columns]"
      ]
     },
     "execution_count": 38,
     "metadata": {},
     "output_type": "execute_result"
    }
   ],
   "source": [
    "# IV : Information Value dataset\n",
    "clf.iv_df.sort_values(by='Information_Value', ascending=False)"
   ]
  },
  {
   "cell_type": "markdown",
   "metadata": {},
   "source": [
    "### Handy rule for Information Value\n",
    "\n",
    "    +-------------------+-----------------------------+\n",
    "    | Information Value | Variable Predictiveness     |\n",
    "    +-------------------+-----------------------------+\n",
    "    | Less than 0.02    | Not useful for prediction   |\n",
    "    +-------------------+-----------------------------+\n",
    "    | 0.02 to 0.1       | Weak predictive Power       |\n",
    "    +-------------------+-----------------------------+\n",
    "    | 0.1 to 0.3        | Medium predictive Power     |\n",
    "    +-------------------+-----------------------------+\n",
    "    | 0.3 to 0.5        | Strong predictive Power     |\n",
    "    +-------------------+-----------------------------+\n",
    "    | >0.5              | Suspicious Predictive Power |\n",
    "    +-------------------+-----------------------------+\n",
    "\n"
   ]
  },
  {
   "cell_type": "code",
   "execution_count": 39,
   "metadata": {},
   "outputs": [
    {
     "name": "stdout",
     "output_type": "stream",
     "text": [
      "   Variable_Name  Information_Value\n",
      "6      feature15           2.344675\n",
      "30     feature37           0.580656\n",
      "3      feature12           0.343544\n",
      "7      feature16           0.317917\n",
      "41     feature47           0.314308\n",
      "9      feature18           0.307741\n",
      "10     feature19           0.297798\n",
      "13     feature21           0.291518\n",
      "48     feature53           0.201524\n",
      "15     feature23           0.105649\n",
      "22      feature3           0.071745\n",
      "61      feature9           0.062968\n",
      "32     feature39           0.060786\n",
      "2      feature11           0.060191\n",
      "59      feature7           0.041892\n",
      "29     feature36           0.037886\n",
      "31     feature38           0.037713\n",
      "19     feature27           0.036172\n",
      "5      feature14           0.027335\n",
      "51     feature56           0.022304\n",
      "25     feature32           0.020842\n",
      "43     feature49           0.020746\n",
      "['feature15' 'feature37' 'feature12' 'feature16' 'feature47' 'feature18'\n",
      " 'feature19' 'feature21' 'feature53' 'feature23' 'feature3' 'feature9'\n",
      " 'feature39' 'feature11' 'feature7' 'feature36' 'feature38' 'feature27'\n",
      " 'feature14' 'feature56' 'feature32' 'feature49']\n"
     ]
    }
   ],
   "source": [
    "sel_feature_IV = clf.iv_df[clf.iv_df['Information_Value'] >= 0.02].sort_values(by = 'Information_Value', ascending  = False)\n",
    "print(sel_feature_IV)\n",
    "selected_features = sel_feature_IV['Variable_Name'].values\n",
    "print(sel_feature_IV['Variable_Name'].values)"
   ]
  },
  {
   "cell_type": "markdown",
   "metadata": {},
   "source": [
    "- `feature15` with IV = 2.3 (suspicious)"
   ]
  },
  {
   "cell_type": "code",
   "execution_count": 40,
   "metadata": {},
   "outputs": [
    {
     "data": {
      "text/plain": [
       "array(['feature15', 'feature37', 'feature12', 'feature16', 'feature47',\n",
       "       'feature18', 'feature19', 'feature21', 'feature53', 'feature23',\n",
       "       'feature3', 'feature9', 'feature39', 'feature11', 'feature7',\n",
       "       'feature36', 'feature38', 'feature27', 'feature14', 'feature56',\n",
       "       'feature32', 'feature49'], dtype=object)"
      ]
     },
     "execution_count": 40,
     "metadata": {},
     "output_type": "execute_result"
    }
   ],
   "source": [
    "selected_features"
   ]
  },
  {
   "cell_type": "code",
   "execution_count": 152,
   "metadata": {},
   "outputs": [
    {
     "name": "stderr",
     "output_type": "stream",
     "text": [
      "C:\\Users\\eehvmvi\\AppData\\Local\\Continuum\\anaconda3\\lib\\site-packages\\sklearn\\svm\\_base.py:947: ConvergenceWarning:\n",
      "\n",
      "Liblinear failed to converge, increase the number of iterations.\n",
      "\n",
      "No handles with labels found to put in legend.\n"
     ]
    },
    {
     "data": {
      "image/png": "[encoded data removed]",
      "text/plain": [
       "<Figure size 1440x504 with 2 Axes>"
      ]
     },
     "metadata": {
      "needs_background": "light"
     },
     "output_type": "display_data"
    }
   ],
   "source": [
    "X=train_data[selected_features]\n",
    "y=train_data['Label']\n",
    "X_train, X_test, y_train, y_test = train_test_split(X, y, test_size = 0.3, random_state = 4, stratify = y)\n",
    "X_train.shape, X_test.shape, y_train.shape, y_test.shape\n",
    "\n",
    "svc, log_reg, d_tree, rf = trainData(X_train, X_test, y_train, y_test)\n",
    "\n",
    "fig, ax = plt.subplots(nrows=1, ncols=2, figsize=(20, 7))\n",
    "plot_curve(ax = ax[0], X_test = X_test, y_test=y_test)\n",
    "\n",
    "# Visualizing results on test_data\n",
    "X_test, y_test = test_data[selected_features], test_data['Label']\n",
    "plot_curve(ax = ax[1], X_test = X_test, y_test=y_test)\n",
    "plt.show()"
   ]
  },
  {
   "cell_type": "markdown",
   "metadata": {},
   "source": [
    "- Feature selection do not have any affect on `SVM`,`Logistic` and `Random Forest`\n",
    "- The Average precision value of `Decision Tree` has increased slightly"
   ]
  },
  {
   "cell_type": "markdown",
   "metadata": {},
   "source": [
    "## 3.3 Filtering using `account_id`"
   ]
  },
  {
   "cell_type": "code",
   "execution_count": 47,
   "metadata": {},
   "outputs": [
    {
     "data": {
      "text/plain": [
       "(28749, 65)"
      ]
     },
     "execution_count": 47,
     "metadata": {},
     "output_type": "execute_result"
    }
   ],
   "source": [
    "# Removing the accounts for which the Label is always 0\n",
    "train_data_acc = train_data[train_data['account_id'].map(train_data.groupby('account_id')['Label'].sum()) > 0].reset_index(drop = True)\n",
    "train_data_acc.shape"
   ]
  },
  {
   "cell_type": "code",
   "execution_count": 48,
   "metadata": {},
   "outputs": [
    {
     "data": {
      "text/plain": [
       "0    0.977425\n",
       "1    0.022575\n",
       "Name: Label, dtype: float64"
      ]
     },
     "execution_count": 48,
     "metadata": {},
     "output_type": "execute_result"
    }
   ],
   "source": [
    "train_data_acc['Label'].value_counts(normalize = True)"
   ]
  },
  {
   "cell_type": "code",
   "execution_count": 49,
   "metadata": {},
   "outputs": [
    {
     "data": {
      "text/plain": [
       "0    28100\n",
       "1      649\n",
       "Name: Label, dtype: int64"
      ]
     },
     "execution_count": 49,
     "metadata": {},
     "output_type": "execute_result"
    }
   ],
   "source": [
    "train_data_acc['Label'].value_counts()"
   ]
  },
  {
   "cell_type": "markdown",
   "metadata": {},
   "source": [
    "- More than 50% of the rows are eliminated (Accounts with all 0 labels are removed)"
   ]
  },
  {
   "cell_type": "code",
   "execution_count": 153,
   "metadata": {},
   "outputs": [
    {
     "name": "stderr",
     "output_type": "stream",
     "text": [
      "C:\\Users\\eehvmvi\\AppData\\Local\\Continuum\\anaconda3\\lib\\site-packages\\sklearn\\svm\\_base.py:947: ConvergenceWarning:\n",
      "\n",
      "Liblinear failed to converge, increase the number of iterations.\n",
      "\n",
      "No handles with labels found to put in legend.\n"
     ]
    },
    {
     "data": {
      "image/png": "[encoded data removed]",
      "text/plain": [
       "<Figure size 1440x504 with 2 Axes>"
      ]
     },
     "metadata": {
      "needs_background": "light"
     },
     "output_type": "display_data"
    }
   ],
   "source": [
    "X=train_data_acc[features]\n",
    "y=train_data_acc['Label']\n",
    "X_train, X_test, y_train, y_test = train_test_split(X, y, test_size = 0.3, random_state = 4, stratify = y)\n",
    "X_train.shape, X_test.shape, y_train.shape, y_test.shape\n",
    "\n",
    "svc, log_reg, d_tree, rf = trainData(X_train, X_test, y_train, y_test)\n",
    "\n",
    "fig, ax = plt.subplots(nrows=1, ncols=2, figsize=(20, 7))\n",
    "plot_curve(ax = ax[0], X_test = X_test, y_test=y_test)\n",
    "\n",
    "# Visualizing results on test_data\n",
    "X_test, y_test = test_data[features], test_data['Label']\n",
    "plot_curve(ax = ax[1], X_test = X_test, y_test=y_test)\n",
    "plt.show()"
   ]
  },
  {
   "cell_type": "markdown",
   "metadata": {},
   "source": [
    "- Average precision scores of all the algorithms have increased"
   ]
  },
  {
   "cell_type": "markdown",
   "metadata": {},
   "source": [
    "## 3.4 Test Train Sampling based on `account_id`"
   ]
  },
  {
   "cell_type": "code",
   "execution_count": 53,
   "metadata": {},
   "outputs": [],
   "source": [
    "train, test = np.split(train_data_acc, [int(.7*len(train_data_acc))])"
   ]
  },
  {
   "cell_type": "code",
   "execution_count": 54,
   "metadata": {},
   "outputs": [
    {
     "data": {
      "text/plain": [
       "((20124, 65), (8625, 65))"
      ]
     },
     "execution_count": 54,
     "metadata": {},
     "output_type": "execute_result"
    }
   ],
   "source": [
    "train.shape, test.shape"
   ]
  },
  {
   "cell_type": "code",
   "execution_count": 55,
   "metadata": {},
   "outputs": [
    {
     "data": {
      "text/plain": [
       "0    0.977639\n",
       "1    0.022361\n",
       "Name: Label, dtype: float64"
      ]
     },
     "execution_count": 55,
     "metadata": {},
     "output_type": "execute_result"
    }
   ],
   "source": [
    "train['Label'].value_counts(normalize=True)"
   ]
  },
  {
   "cell_type": "code",
   "execution_count": 56,
   "metadata": {},
   "outputs": [
    {
     "data": {
      "text/plain": [
       "0    0.976928\n",
       "1    0.023072\n",
       "Name: Label, dtype: float64"
      ]
     },
     "execution_count": 56,
     "metadata": {},
     "output_type": "execute_result"
    }
   ],
   "source": [
    "test['Label'].value_counts(normalize=True)"
   ]
  },
  {
   "cell_type": "code",
   "execution_count": 154,
   "metadata": {},
   "outputs": [
    {
     "name": "stderr",
     "output_type": "stream",
     "text": [
      "C:\\Users\\eehvmvi\\AppData\\Local\\Continuum\\anaconda3\\lib\\site-packages\\sklearn\\svm\\_base.py:947: ConvergenceWarning:\n",
      "\n",
      "Liblinear failed to converge, increase the number of iterations.\n",
      "\n",
      "No handles with labels found to put in legend.\n"
     ]
    },
    {
     "data": {
      "image/png": "[encoded data removed]",
      "text/plain": [
       "<Figure size 1440x504 with 2 Axes>"
      ]
     },
     "metadata": {
      "needs_background": "light"
     },
     "output_type": "display_data"
    }
   ],
   "source": [
    "X_train, X_test, y_train, y_test = train[features], test[features], train['Label'], test['Label']\n",
    "X_train.shape, X_test.shape, y_train.shape, y_test.shape\n",
    "\n",
    "svc, log_reg, d_tree, rf = trainData(X_train, X_test, y_train, y_test)\n",
    "\n",
    "fig, ax = plt.subplots(nrows=1, ncols=2, figsize=(20, 7))\n",
    "plot_curve(ax = ax[0], X_test = X_test, y_test=y_test)\n",
    "\n",
    "# Visualizing results on test_data\n",
    "X_test, y_test = test_data[features], test_data['Label']\n",
    "plot_curve(ax = ax[1], X_test = X_test, y_test=y_test)\n",
    "plt.show()"
   ]
  },
  {
   "cell_type": "markdown",
   "metadata": {},
   "source": [
    "- The precisions scores have decreased\n",
    "- Interesting to see how feature selection affect the Precision recall curve"
   ]
  },
  {
   "cell_type": "code",
   "execution_count": 156,
   "metadata": {},
   "outputs": [
    {
     "name": "stderr",
     "output_type": "stream",
     "text": [
      "C:\\Users\\eehvmvi\\AppData\\Local\\Continuum\\anaconda3\\lib\\site-packages\\sklearn\\svm\\_base.py:947: ConvergenceWarning:\n",
      "\n",
      "Liblinear failed to converge, increase the number of iterations.\n",
      "\n",
      "No handles with labels found to put in legend.\n"
     ]
    },
    {
     "data": {
      "image/png": "[encoded data removed]",
      "text/plain": [
       "<Figure size 1440x504 with 2 Axes>"
      ]
     },
     "metadata": {
      "needs_background": "light"
     },
     "output_type": "display_data"
    }
   ],
   "source": [
    "# Running the model on selected features\n",
    "X_train, X_test, y_train, y_test = train[selected_features], test[selected_features], train['Label'], test['Label']\n",
    "X_train.shape, X_test.shape, y_train.shape, y_test.shape\n",
    "\n",
    "svc, log_reg, d_tree, rf = trainData(X_train, X_test, y_train, y_test)\n",
    "\n",
    "fig, ax = plt.subplots(nrows=1, ncols=2, figsize=(20, 7))\n",
    "plot_curve(ax = ax[0], X_test = X_test, y_test=y_test)\n",
    "\n",
    "# Visualizing results on test_data\n",
    "X_test, y_test = test_data[selected_features], test_data['Label']\n",
    "plot_curve(ax = ax[1], X_test = X_test, y_test=y_test)\n",
    "plt.show()"
   ]
  },
  {
   "cell_type": "markdown",
   "metadata": {},
   "source": [
    "- Not much affect\n",
    "\n",
    "**Conclusion** : Keep all the features as models have not shown any significant increase using Feature selection"
   ]
  },
  {
   "cell_type": "markdown",
   "metadata": {},
   "source": [
    "## 3.5 Incorporating `week_date` into model"
   ]
  },
  {
   "cell_type": "markdown",
   "metadata": {},
   "source": [
    "As discussed over Zoom call, there is a particular threshold at which after which the `account` toggles its `Label` value"
   ]
  },
  {
   "cell_type": "markdown",
   "metadata": {},
   "source": [
    "![title](img/account_threshold.png)"
   ]
  },
  {
   "cell_type": "markdown",
   "metadata": {},
   "source": [
    "- Filtering the dataset in such a way that pairs of `(0,1)` Target variable(`Label`) is captured\n",
    "- Each (0,1) pair is taken as sequence\n",
    "- After doing this exercise, we will have equal number of 0s and equal number of 1s"
   ]
  },
  {
   "cell_type": "code",
   "execution_count": 64,
   "metadata": {},
   "outputs": [
    {
     "data": {
      "text/plain": [
       "100583.0    134\n",
       "100162.0    133\n",
       "100746.0    133\n",
       "101799.0    132\n",
       "105810.0    126\n",
       "           ... \n",
       "187622.0      1\n",
       "100559.0      1\n",
       "105388.0      1\n",
       "100796.0      1\n",
       "239955.0      1\n",
       "Name: account_id, Length: 2690, dtype: int64"
      ]
     },
     "execution_count": 64,
     "metadata": {},
     "output_type": "execute_result"
    }
   ],
   "source": [
    "train_data['account_id'].value_counts()"
   ]
  },
  {
   "cell_type": "code",
   "execution_count": 94,
   "metadata": {},
   "outputs": [],
   "source": [
    "unique_accounts = train_data_acc['account_id'].unique()\n",
    "df_outer = pd.DataFrame()\n",
    "for acc in unique_accounts:\n",
    "    df = train_data_acc[train_data_acc['account_id'] == acc]\n",
    "    df['g'] = df['Label'].ne(df['Label'].shift()).cumsum()\n",
    "    df.drop_duplicates('g', keep = 'last', inplace = True)\n",
    "    if df.shape[0] % 2 == 1:\n",
    "        df_outer = df_outer.append(df[:-1])\n",
    "    else:\n",
    "        df_outer = df_outer.append(df)\n",
    "    "
   ]
  },
  {
   "cell_type": "code",
   "execution_count": 95,
   "metadata": {},
   "outputs": [
    {
     "data": {
      "text/plain": [
       "1    507\n",
       "0    507\n",
       "Name: Label, dtype: int64"
      ]
     },
     "execution_count": 95,
     "metadata": {},
     "output_type": "execute_result"
    }
   ],
   "source": [
    "df_outer['Label'].value_counts()"
   ]
  },
  {
   "cell_type": "code",
   "execution_count": 157,
   "metadata": {},
   "outputs": [
    {
     "name": "stderr",
     "output_type": "stream",
     "text": [
      "C:\\Users\\eehvmvi\\AppData\\Local\\Continuum\\anaconda3\\lib\\site-packages\\sklearn\\svm\\_base.py:947: ConvergenceWarning:\n",
      "\n",
      "Liblinear failed to converge, increase the number of iterations.\n",
      "\n",
      "No handles with labels found to put in legend.\n"
     ]
    },
    {
     "data": {
      "image/png": "[encoded data removed]",
      "text/plain": [
       "<Figure size 1440x504 with 2 Axes>"
      ]
     },
     "metadata": {
      "needs_background": "light"
     },
     "output_type": "display_data"
    }
   ],
   "source": [
    "X = df_outer[features]\n",
    "y = df_outer['Label']\n",
    "X_train, X_test, y_train, y_test = train_test_split(X, y, test_size = 0.3, random_state = 4, stratify = y)\n",
    "X_train.shape, X_test.shape, y_train.shape, y_test.shape\n",
    "\n",
    "svc, log_reg, d_tree, rf = trainData(X_train, X_test, y_train, y_test)\n",
    "\n",
    "fig, ax = plt.subplots(nrows=1, ncols=2, figsize=(20, 7))\n",
    "plot_curve(ax = ax[0], X_test = X_test, y_test=y_test)\n",
    "\n",
    "# Visualizing results on test_data\n",
    "X_test, y_test = test_data[features], test_data['Label']\n",
    "plot_curve(ax = ax[1], X_test = X_test, y_test=y_test)\n",
    "plt.show()"
   ]
  },
  {
   "cell_type": "markdown",
   "metadata": {},
   "source": [
    "# Takeaways \n",
    "\n",
    "**The major takeaways after modeling the data in raw form:**\n",
    "\n",
    "- `SVM` and `Logistic Regression` algorithm performance was below than `Random Forest` \n",
    "    - Since SVM and Logistic work on distance between points. Therefore to improve the perfomance we need feature scaling.\n",
    "- We should model the relation between the accounts.\n",
    "    - For modeling relations b/w accounts, clustering is used. I am using K-Means clustering so that similar accounts fall into a cluster.\n",
    "- It is better to use all features rather than using selected features.\n",
    "- Removing accounts with all values 0 showed some significant impact."
   ]
  },
  {
   "cell_type": "markdown",
   "metadata": {},
   "source": [
    "# Feature Scaling\n",
    "\n",
    "- For feature scaling, I am using StandardScaler()"
   ]
  },
  {
   "cell_type": "code",
   "execution_count": 228,
   "metadata": {},
   "outputs": [],
   "source": [
    "from sklearn.preprocessing import StandardScaler, MinMaxScaler\n",
    "X = train_data[features]\n",
    "\n",
    "standard_scaler = StandardScaler()\n",
    "X_standard = standard_scaler.fit_transform(X)"
   ]
  },
  {
   "cell_type": "markdown",
   "metadata": {},
   "source": [
    "# Clustering and Classification"
   ]
  },
  {
   "cell_type": "code",
   "execution_count": 246,
   "metadata": {},
   "outputs": [],
   "source": [
    "from sklearn.cluster import KMeans\n",
    "\n",
    "k_means = KMeans(n_clusters=10, random_state=4)\n",
    "k_means_train = k_means.fit_predict(X_standard)"
   ]
  },
  {
   "cell_type": "code",
   "execution_count": 247,
   "metadata": {},
   "outputs": [],
   "source": [
    "X_train = pd.DataFrame(data = X_standard, columns=features)\n",
    "X_train = X_train.round(4)"
   ]
  },
  {
   "cell_type": "code",
   "execution_count": 248,
   "metadata": {},
   "outputs": [],
   "source": [
    "cluster = pd.get_dummies(k_means_train, prefix='cluster')"
   ]
  },
  {
   "cell_type": "code",
   "execution_count": 249,
   "metadata": {},
   "outputs": [],
   "source": [
    "X_train = pd.concat([X_train, cluster], axis = 1)\n",
    "y_train = train_data['Label']"
   ]
  },
  {
   "cell_type": "code",
   "execution_count": 250,
   "metadata": {},
   "outputs": [],
   "source": [
    "X_test = standard_scaler.transform(test_data[features]).round(4)\n",
    "k_means_test = k_means.predict(X_test)\n",
    "X_test = pd.DataFrame(data = X_test, columns=features)\n",
    "cluster = pd.get_dummies(k_means_test, prefix='cluster')\n",
    "X_test = pd.concat([X_test, cluster], axis = 1)\n",
    "\n",
    "missing_columns_test = set(X_train.columns) - set(X_test.columns)\n",
    "for col in missing_columns_test:\n",
    "    X_test[col] = 0\n",
    "y_test = test_data['Label']"
   ]
  },
  {
   "cell_type": "code",
   "execution_count": 251,
   "metadata": {},
   "outputs": [
    {
     "name": "stderr",
     "output_type": "stream",
     "text": [
      "C:\\Users\\eehvmvi\\AppData\\Local\\Continuum\\anaconda3\\lib\\site-packages\\sklearn\\svm\\_base.py:947: ConvergenceWarning:\n",
      "\n",
      "Liblinear failed to converge, increase the number of iterations.\n",
      "\n"
     ]
    },
    {
     "data": {
      "image/png": "[encoded data removed]",
      "text/plain": [
       "<Figure size 1080x504 with 1 Axes>"
      ]
     },
     "metadata": {
      "needs_background": "light"
     },
     "output_type": "display_data"
    }
   ],
   "source": [
    "svc, log_reg, d_tree, rf = trainData(X_train, X_test, y_train, y_test)\n",
    "\n",
    "fig, ax = plt.subplots(figsize=(15, 7))\n",
    "plot_curve(ax = ax, X_test = X_test, y_test=y_test)"
   ]
  },
  {
   "cell_type": "markdown",
   "metadata": {},
   "source": [
    "- Clustring using 10 clusters and then running classification model on scaled data has improved the **Average Precision Score**.\n",
    "- Since Random Forest has performed best in all cases. I will be choosing Random Forest as Classification aslgorithm"
   ]
  },
  {
   "cell_type": "code",
   "execution_count": 278,
   "metadata": {},
   "outputs": [],
   "source": [
    "\n",
    "# Creating a function for determing the optimal number of clusters\n",
    "def clustering_classification(n_cluster, X_train, X_test, y_train, y_test):\n",
    "    k_means = KMeans(n_clusters=n_cluster, random_state=4)\n",
    "    \n",
    "    k_means_train = k_means.fit_predict(X_train)\n",
    "    cluster_train = pd.get_dummies(k_means_train, prefix='cluster')\n",
    "    X_train = pd.DataFrame(data = X_train, columns=features)\n",
    "    X_train = pd.concat([X_train, cluster_train], axis = 1)\n",
    "    \n",
    "    k_means_test = k_means.predict(X_test)\n",
    "    X_test = pd.DataFrame(data = X_test, columns=features)\n",
    "    cluster_test = pd.get_dummies(k_means_test, prefix='cluster')\n",
    "    X_test = pd.concat([X_test, cluster_test], axis = 1)\n",
    "\n",
    "    missing_columns_test = set(X_train.columns) - set(X_test.columns)\n",
    "    print(missing_columns_test)\n",
    "    for col in missing_columns_test:\n",
    "        X_test[col] = 0\n",
    "    \n",
    "    rf = RandomForestClassifier()\n",
    "    \n",
    "    rf.fit(X_train, y_train)\n",
    "    \n",
    "    y_scores = rf.predict_proba(X_test)[:, 1]\n",
    "    \n",
    "    avg_precsion = average_precision_score(y_test, y_scores)\n",
    "    \n",
    "    return rf, X_test, avg_precsion"
   ]
  },
  {
   "cell_type": "code",
   "execution_count": 272,
   "metadata": {},
   "outputs": [
    {
     "name": "stdout",
     "output_type": "stream",
     "text": [
      "1\n",
      "set()\n",
      "2\n",
      "{'cluster_1'}\n",
      "3\n",
      "{'cluster_2'}\n",
      "4\n",
      "{'cluster_3', 'cluster_1'}\n",
      "5\n",
      "{'cluster_3', 'cluster_4', 'cluster_1'}\n",
      "6\n",
      "{'cluster_3', 'cluster_5', 'cluster_4', 'cluster_1'}\n",
      "7\n",
      "{'cluster_6', 'cluster_3', 'cluster_4', 'cluster_1', 'cluster_5'}\n",
      "8\n",
      "{'cluster_7', 'cluster_4', 'cluster_1', 'cluster_2', 'cluster_5'}\n",
      "9\n",
      "{'cluster_3', 'cluster_8', 'cluster_4', 'cluster_1'}\n",
      "10\n",
      "{'cluster_3', 'cluster_4', 'cluster_9', 'cluster_5', 'cluster_2'}\n",
      "11\n",
      "{'cluster_6', 'cluster_1', 'cluster_10', 'cluster_9', 'cluster_2'}\n",
      "12\n",
      "{'cluster_3', 'cluster_4', 'cluster_9', 'cluster_5', 'cluster_2', 'cluster_11'}\n",
      "13\n",
      "{'cluster_3', 'cluster_4', 'cluster_9', 'cluster_5', 'cluster_2', 'cluster_11'}\n",
      "14\n",
      "{'cluster_6', 'cluster_10', 'cluster_1', 'cluster_9', 'cluster_12', 'cluster_2'}\n",
      "15\n",
      "{'cluster_3', 'cluster_4', 'cluster_13', 'cluster_9', 'cluster_5', 'cluster_2', 'cluster_11'}\n",
      "16\n",
      "{'cluster_6', 'cluster_3', 'cluster_8', 'cluster_1', 'cluster_10', 'cluster_2', 'cluster_5', 'cluster_11'}\n",
      "17\n",
      "{'cluster_15', 'cluster_11', 'cluster_16', 'cluster_9', 'cluster_5', 'cluster_14'}\n",
      "18\n",
      "{'cluster_15', 'cluster_11', 'cluster_16', 'cluster_9', 'cluster_5', 'cluster_14'}\n",
      "19\n",
      "{'cluster_6', 'cluster_3', 'cluster_8', 'cluster_16', 'cluster_1', 'cluster_10', 'cluster_2', 'cluster_5', 'cluster_11'}\n",
      "20\n",
      "{'cluster_6', 'cluster_3', 'cluster_8', 'cluster_16', 'cluster_1', 'cluster_10', 'cluster_2', 'cluster_5', 'cluster_11'}\n",
      "21\n",
      "{'cluster_7', 'cluster_3', 'cluster_8', 'cluster_4', 'cluster_16', 'cluster_17', 'cluster_2', 'cluster_5', 'cluster_11'}\n",
      "22\n",
      "{'cluster_7', 'cluster_3', 'cluster_8', 'cluster_4', 'cluster_16', 'cluster_17', 'cluster_21', 'cluster_2', 'cluster_5', 'cluster_11'}\n",
      "23\n",
      "{'cluster_7', 'cluster_3', 'cluster_8', 'cluster_4', 'cluster_16', 'cluster_17', 'cluster_21', 'cluster_2', 'cluster_5', 'cluster_22', 'cluster_11'}\n",
      "24\n",
      "{'cluster_7', 'cluster_3', 'cluster_8', 'cluster_4', 'cluster_16', 'cluster_17', 'cluster_21', 'cluster_2', 'cluster_5', 'cluster_22', 'cluster_11'}\n",
      "25\n",
      "{'cluster_7', 'cluster_3', 'cluster_8', 'cluster_4', 'cluster_16', 'cluster_17', 'cluster_21', 'cluster_2', 'cluster_5', 'cluster_22', 'cluster_11'}\n",
      "26\n",
      "{'cluster_6', 'cluster_18', 'cluster_20', 'cluster_4', 'cluster_25', 'cluster_16', 'cluster_17', 'cluster_21', 'cluster_1', 'cluster_10', 'cluster_2', 'cluster_22'}\n",
      "27\n",
      "{'cluster_6', 'cluster_18', 'cluster_20', 'cluster_4', 'cluster_25', 'cluster_16', 'cluster_17', 'cluster_21', 'cluster_1', 'cluster_10', 'cluster_2', 'cluster_22'}\n",
      "28\n",
      "{'cluster_6', 'cluster_18', 'cluster_20', 'cluster_4', 'cluster_25', 'cluster_16', 'cluster_17', 'cluster_21', 'cluster_1', 'cluster_10', 'cluster_2', 'cluster_22'}\n",
      "29\n",
      "{'cluster_6', 'cluster_18', 'cluster_20', 'cluster_4', 'cluster_25', 'cluster_16', 'cluster_17', 'cluster_21', 'cluster_1', 'cluster_10', 'cluster_2', 'cluster_22'}\n",
      "30\n",
      "{'cluster_6', 'cluster_18', 'cluster_20', 'cluster_4', 'cluster_25', 'cluster_16', 'cluster_17', 'cluster_21', 'cluster_1', 'cluster_10', 'cluster_2', 'cluster_22'}\n"
     ]
    }
   ],
   "source": [
    "X = train_data[features]\n",
    "\n",
    "standard_scaler = StandardScaler()\n",
    "X_train = standard_scaler.fit_transform(X).round(4)\n",
    "\n",
    "X_test = standard_scaler.transform(test_data[features]).round(4)\n",
    "\n",
    "\n",
    "y_train = train_data['Label']\n",
    "y_test = test_data['Label']\n",
    "\n",
    "n_clusters_list = []\n",
    "avg_precision_list = []\n",
    "\n",
    "for n_cluster in range(1,31):\n",
    "    print(n_cluster)\n",
    "    rf, X_test, avg_precision = clustering_classification(n_cluster, X_train, X_test, y_train, y_test)\n",
    "    n_clusters_list.append(n_cluster)\n",
    "    avg_precision_list.append(avg_precision)"
   ]
  },
  {
   "cell_type": "code",
   "execution_count": 273,
   "metadata": {},
   "outputs": [
    {
     "data": {
      "text/plain": [
       "0.6079060509553307"
      ]
     },
     "execution_count": 273,
     "metadata": {},
     "output_type": "execute_result"
    }
   ],
   "source": [
    "max(avg_precision_list)"
   ]
  },
  {
   "cell_type": "code",
   "execution_count": 274,
   "metadata": {},
   "outputs": [
    {
     "data": {
      "text/plain": [
       "[0.6079060509553307,\n",
       " 0.6076644475624018,\n",
       " 0.6071658347380576,\n",
       " 0.6049103467638315,\n",
       " 0.6057068609856614,\n",
       " 0.6053602411800558,\n",
       " 0.6060779038707765,\n",
       " 0.6064757738526808,\n",
       " 0.551141081624289,\n",
       " 0.6004622713675672,\n",
       " 0.6057249336324267,\n",
       " 0.5975522913409945,\n",
       " 0.5978323868881671,\n",
       " 0.59559561121343,\n",
       " 0.5967243651884647,\n",
       " 0.6045434557587399,\n",
       " 0.5881400190655565,\n",
       " 0.5772913155857528,\n",
       " 0.6033479028158456,\n",
       " 0.6007229522907327,\n",
       " 0.5941568238585375,\n",
       " 0.5922093743365067,\n",
       " 0.5931107809189019,\n",
       " 0.5973077151305236,\n",
       " 0.6027940869766257,\n",
       " 0.5691890413458829,\n",
       " 0.5810085136211097,\n",
       " 0.5691719396548345,\n",
       " 0.5688971112707948,\n",
       " 0.5697451108308997]"
      ]
     },
     "execution_count": 274,
     "metadata": {},
     "output_type": "execute_result"
    }
   ],
   "source": [
    "avg_precision_list"
   ]
  },
  {
   "cell_type": "code",
   "execution_count": 277,
   "metadata": {},
   "outputs": [
    {
     "data": {
      "image/png": "[encoded data removed]",
      "text/plain": [
       "<Figure size 432x288 with 1 Axes>"
      ]
     },
     "metadata": {
      "needs_background": "light"
     },
     "output_type": "display_data"
    }
   ],
   "source": [
    "plt.plot(n_clusters_list, avg_precision_list)\n",
    "plt.show()"
   ]
  },
  {
   "cell_type": "markdown",
   "metadata": {},
   "source": [
    "- Pretty much as expected, most of the data is sparse with lot of 0s.\n",
    "- The clusters are divided in such a way that, most of the rows align in 1 cluster.\n",
    "- Cluster 1 is the optimum number of clusters"
   ]
  },
  {
   "cell_type": "code",
   "execution_count": 280,
   "metadata": {},
   "outputs": [
    {
     "name": "stdout",
     "output_type": "stream",
     "text": [
      "set()\n"
     ]
    },
    {
     "data": {
      "image/png": "[encoded data removed]",
      "text/plain": [
       "<Figure size 1080x504 with 1 Axes>"
      ]
     },
     "metadata": {
      "needs_background": "light"
     },
     "output_type": "display_data"
    }
   ],
   "source": [
    "X = train_data[features]\n",
    "\n",
    "standard_scaler = StandardScaler()\n",
    "X_train = standard_scaler.fit_transform(X).round(4)\n",
    "\n",
    "X_test = standard_scaler.transform(test_data[features]).round(4)\n",
    "\n",
    "\n",
    "y_train = train_data['Label']\n",
    "y_test = test_data['Label']\n",
    "\n",
    "rf, X_test, avg_precision = clustering_classification(1, X_train, X_test, y_train, y_test)\n",
    "\n",
    "fig, ax = plt.subplots(figsize=(15, 7))\n",
    "plot_precision_recall_curve(rf, X_test, y_test, ax = ax)\n",
    "plt.legend(loc='best', prop={'size': 10})\n",
    "plt.show()    "
   ]
  },
  {
   "cell_type": "markdown",
   "metadata": {},
   "source": [
    "- Going forward, we can use **sequence classification techiniques like RNN (I don't know how RNN works that's why I haven't tried it here)"
   ]
  },
  {
   "cell_type": "code",
   "execution_count": null,
   "metadata": {},
   "outputs": [],
   "source": []
  }
 ],
 "metadata": {
  "kernelspec": {
   "display_name": "Python 3",
   "language": "python",
   "name": "python3"
  },
  "language_info": {
   "codemirror_mode": {
    "name": "ipython",
    "version": 3
   },
   "file_extension": ".py",
   "mimetype": "text/x-python",
   "name": "python",
   "nbconvert_exporter": "python",
   "pygments_lexer": "ipython3",
   "version": "3.7.5"
  }
 },
 "nbformat": 4,
 "nbformat_minor": 2
}
